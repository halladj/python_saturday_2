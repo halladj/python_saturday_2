{
 "cells": [
  {
   "cell_type": "markdown",
   "id": "f36b719a-c495-46d7-ab04-5ac51e5952e0",
   "metadata": {},
   "source": [
    "# Exercice-1: \n",
    "### **Fix the Syntaxtic Errors in the following declarations**:"
   ]
  },
  {
   "cell_type": "markdown",
   "id": "a38e3a93-86ee-40b0-a841-8393d91be116",
   "metadata": {},
   "source": [
    "**1.**"
   ]
  },
  {
   "cell_type": "code",
   "execution_count": 1,
   "id": "4e4668b7-10e3-4300-a0eb-534ec30d8a58",
   "metadata": {},
   "outputs": [],
   "source": [
    "newVariable = 10"
   ]
  },
  {
   "cell_type": "markdown",
   "id": "f3e18973-31b9-4d2d-bc16-7d18babfc92d",
   "metadata": {},
   "source": [
    "**2.**"
   ]
  },
  {
   "cell_type": "code",
   "execution_count": 2,
   "id": "ea8524d6-4b7c-4c4a-a959-42cda1ae554e",
   "metadata": {},
   "outputs": [],
   "source": [
    "_10number = 2030"
   ]
  },
  {
   "cell_type": "markdown",
   "id": "fddacc56-2619-48de-8270-4e5fd95caf26",
   "metadata": {},
   "source": [
    "**3.**"
   ]
  },
  {
   "cell_type": "code",
   "execution_count": 3,
   "id": "6980c606-e15c-4f86-8006-5b791fcdcd5d",
   "metadata": {},
   "outputs": [
    {
     "name": "stdout",
     "output_type": "stream",
     "text": [
      "2323\n"
     ]
    }
   ],
   "source": [
    "random = 2323\n",
    "print(random)"
   ]
  },
  {
   "cell_type": "markdown",
   "id": "49a3f441-30dd-494b-a1e5-291c63a49c37",
   "metadata": {},
   "source": [
    "**4.**"
   ]
  },
  {
   "cell_type": "code",
   "execution_count": 20,
   "id": "ed615d71-8a28-4816-b36e-da7e3caa4399",
   "metadata": {},
   "outputs": [],
   "source": [
    "_for = 1059"
   ]
  },
  {
   "cell_type": "markdown",
   "id": "62a4d437-5f19-4625-9065-da169b95554d",
   "metadata": {},
   "source": [
    "# Exercice-2: \n",
    "### Write a program that takes two numbers from the user and prints their:\n",
    "1. **sum**, \n",
    "2. **difference**, \n",
    "3. **product**, \n",
    "4. and **quotient**:"
   ]
  },
  {
   "cell_type": "code",
   "execution_count": 13,
   "id": "19fba9c2-c640-42dc-a42a-5139811d3b83",
   "metadata": {},
   "outputs": [
    {
     "name": "stdin",
     "output_type": "stream",
     "text": [
      "number-1:  10\n"
     ]
    }
   ],
   "source": [
    "number1 = input(\"number-1: \")\n",
    "number1 = int(number1)"
   ]
  },
  {
   "cell_type": "code",
   "execution_count": 11,
   "id": "8c6950ed-7959-46a7-8a62-18059bfa74bc",
   "metadata": {},
   "outputs": [
    {
     "data": {
      "text/plain": [
       "int"
      ]
     },
     "execution_count": 11,
     "metadata": {},
     "output_type": "execute_result"
    }
   ],
   "source": [
    "type(number1)"
   ]
  },
  {
   "cell_type": "code",
   "execution_count": 14,
   "id": "5aea20f1-1246-4402-8b48-980f10cc8f85",
   "metadata": {},
   "outputs": [
    {
     "name": "stdin",
     "output_type": "stream",
     "text": [
      "Number-2:  10\n"
     ]
    }
   ],
   "source": [
    "number2 = int(input(\"Number-2: \"))"
   ]
  },
  {
   "cell_type": "code",
   "execution_count": 18,
   "id": "81ec3be2-ce42-4e0c-bea8-0cb54b268a69",
   "metadata": {},
   "outputs": [
    {
     "name": "stdin",
     "output_type": "stream",
     "text": [
      " *\n"
     ]
    },
    {
     "name": "stdout",
     "output_type": "stream",
     "text": [
      "10 * 10  =  100\n",
      "10 * 10 = 100\n"
     ]
    }
   ],
   "source": [
    "operation = input()\n",
    "\n",
    "if operation == \"+\":\n",
    "    print(number1,\" + \", number2, \" = \",number1 + number2)\n",
    "elif operation == \"-\":\n",
    "    print(number1,\" - \", number2, \" = \",number1 - number2)\n",
    "elif operation == \"*\":\n",
    "    print(number1,\"*\", number2, \" = \",number1 * number2)\n",
    "    print(f\"{number1} * {number2} = {number1 * number2}\")\n",
    "elif operation == \"/\":\n",
    "    print(number1,\" / \", number2, \" = \",number1 / number2)\n",
    "else:\n",
    "    print(\"invalid operation\")"
   ]
  },
  {
   "cell_type": "code",
   "execution_count": null,
   "id": "7463b388-5725-40f4-98e4-4f83db1fd0cb",
   "metadata": {},
   "outputs": [],
   "source": []
  },
  {
   "cell_type": "code",
   "execution_count": null,
   "id": "51bbd029-f763-4968-a619-c0cdf059c373",
   "metadata": {},
   "outputs": [],
   "source": []
  },
  {
   "cell_type": "code",
   "execution_count": null,
   "id": "00448f13-1556-45b8-bb70-b81d0b0373d7",
   "metadata": {},
   "outputs": [],
   "source": []
  },
  {
   "cell_type": "code",
   "execution_count": null,
   "id": "788e0b84-3472-4f50-8a50-24dcb13d2885",
   "metadata": {},
   "outputs": [],
   "source": []
  },
  {
   "cell_type": "markdown",
   "id": "fa5cbf7a-055d-4598-a8ad-0e8e3d9d2bc4",
   "metadata": {},
   "source": [
    "# Exercice-3: \n",
    "###  Ask the user for two numbers and display the result of the first number raised to the power of the second:"
   ]
  },
  {
   "cell_type": "code",
   "execution_count": null,
   "id": "e43dfa2d-8d92-48ab-965b-05312e7cbbcc",
   "metadata": {},
   "outputs": [],
   "source": []
  },
  {
   "cell_type": "code",
   "execution_count": null,
   "id": "e90f05ff-712e-4c03-8f5f-3ca8ef348553",
   "metadata": {},
   "outputs": [],
   "source": []
  },
  {
   "cell_type": "markdown",
   "id": "904f0e3f-e4ca-4ccf-a9a9-4d40cb58e134",
   "metadata": {},
   "source": [
    "# Exercice-4: \n",
    "###   Write a program that asks the user for a number and determines if it’s even or odd:"
   ]
  },
  {
   "cell_type": "code",
   "execution_count": 19,
   "id": "0c8b5561-da4e-45af-b336-74d18f10fb54",
   "metadata": {},
   "outputs": [
    {
     "name": "stdin",
     "output_type": "stream",
     "text": [
      " 17\n"
     ]
    },
    {
     "name": "stdout",
     "output_type": "stream",
     "text": [
      "odd\n"
     ]
    }
   ],
   "source": [
    "number = input()\n",
    "number = int(number)\n",
    "\n",
    "if number % 2 == 0:\n",
    "    print(\"even\")\n",
    "else:\n",
    "    print(\"odd\")"
   ]
  },
  {
   "cell_type": "markdown",
   "id": "7d7437fa-248c-4460-b91b-d3e6aaacb762",
   "metadata": {},
   "source": [
    "# Exercice-5: \n",
    "###  Write a program to convert a temperature from Celsius to Fahrenheit using the formula: $$ F = C \\times \\frac{9}{5} + 32 $$"
   ]
  },
  {
   "cell_type": "code",
   "execution_count": 21,
   "id": "37daf517-f9ff-48ec-a844-1fd8c9e1953e",
   "metadata": {},
   "outputs": [
    {
     "name": "stdin",
     "output_type": "stream",
     "text": [
      " 37\n"
     ]
    },
    {
     "name": "stdout",
     "output_type": "stream",
     "text": [
      "Fahrenheit ==  98.6\n"
     ]
    }
   ],
   "source": [
    "C = int(input())\n",
    "\n",
    "F = C * 9/5 + 32\n",
    "\n",
    "print(\"Fahrenheit == \", F)"
   ]
  },
  {
   "cell_type": "markdown",
   "id": "236a2454-face-407e-a5e2-af20fd90048d",
   "metadata": {},
   "source": [
    "# Exercice-5: \n",
    "###  Write a program that takes the user's age in years and calculates their age in months:\n"
   ]
  },
  {
   "cell_type": "code",
   "execution_count": null,
   "id": "94e0e314-5de9-4b60-8474-daed3be462ec",
   "metadata": {},
   "outputs": [],
   "source": [
    "## Data types:\n",
    "\n",
    "#1. string: str \"3 * 5\"\n",
    "#2. int          3 * 5\n",
    "#3. float\n",
    "#4. boolean"
   ]
  },
  {
   "cell_type": "code",
   "execution_count": 22,
   "id": "0d194a37-23bb-47fd-86ba-9fa369a36090",
   "metadata": {},
   "outputs": [
    {
     "name": "stdout",
     "output_type": "stream",
     "text": [
      "85\n"
     ]
    }
   ],
   "source": [
    "myVar = 5 * 17\n",
    "print(myVar)"
   ]
  },
  {
   "cell_type": "code",
   "execution_count": null,
   "id": "c6bdfdf0-2981-4570-a209-14814f11835f",
   "metadata": {},
   "outputs": [],
   "source": []
  }
 ],
 "metadata": {
  "kernelspec": {
   "display_name": "Python 3 (ipykernel)",
   "language": "python",
   "name": "python3"
  },
  "language_info": {
   "codemirror_mode": {
    "name": "ipython",
    "version": 3
   },
   "file_extension": ".py",
   "mimetype": "text/x-python",
   "name": "python",
   "nbconvert_exporter": "python",
   "pygments_lexer": "ipython3",
   "version": "3.11.2"
  }
 },
 "nbformat": 4,
 "nbformat_minor": 5
}
