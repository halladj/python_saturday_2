{
 "cells": [
  {
   "cell_type": "code",
   "execution_count": 7,
   "metadata": {},
   "outputs": [
    {
     "name": "stdout",
     "output_type": "stream",
     "text": [
      "{'task-0': {'task-name': 'pray', 'priotity': 'high'}}\n"
     ]
    }
   ],
   "source": [
    "DB = {}\n",
    "\n",
    "def add_task(task):\n",
    "    DB[f\"task-{len(DB)}\"] = task\n",
    "\n",
    "def create_task():\n",
    "    taskname = input (\"please enter task name : \")\n",
    "    taskpriority = input (\"please enter task priority : \")\n",
    "    task ={\"task-name\": taskname, \"priotity\": taskpriority}\n",
    "    return task\n",
    "\n",
    "add_task(create_task())\n",
    "print(DB)"
   ]
  },
  {
   "cell_type": "code",
   "execution_count": 8,
   "metadata": {},
   "outputs": [],
   "source": [
    "add_task(create_task())"
   ]
  },
  {
   "cell_type": "code",
   "execution_count": 9,
   "metadata": {},
   "outputs": [
    {
     "name": "stdout",
     "output_type": "stream",
     "text": [
      "{'task-0': {'task-name': 'pray', 'priotity': 'high'}, 'task-1': {'task-name': 'study', 'priotity': 'low'}}\n"
     ]
    }
   ],
   "source": [
    "print(DB)"
   ]
  },
  {
   "cell_type": "code",
   "execution_count": 12,
   "metadata": {},
   "outputs": [],
   "source": [
    "def delete_task(task_key):\n",
    "    del DB[task_key]"
   ]
  },
  {
   "cell_type": "code",
   "execution_count": 13,
   "metadata": {},
   "outputs": [
    {
     "name": "stdout",
     "output_type": "stream",
     "text": [
      "{'task-0': {'task-name': 'pray', 'priotity': 'high'}, 'task-1': {'task-name': 'study', 'priotity': 'low'}}\n",
      "{'task-1': {'task-name': 'study', 'priotity': 'low'}}\n"
     ]
    }
   ],
   "source": [
    "print(DB)\n",
    "delete_task(input())\n",
    "print(DB)"
   ]
  },
  {
   "cell_type": "code",
   "execution_count": null,
   "metadata": {},
   "outputs": [],
   "source": []
  }
 ],
 "metadata": {
  "kernelspec": {
   "display_name": "Python 3",
   "language": "python",
   "name": "python3"
  },
  "language_info": {
   "codemirror_mode": {
    "name": "ipython",
    "version": 3
   },
   "file_extension": ".py",
   "mimetype": "text/x-python",
   "name": "python",
   "nbconvert_exporter": "python",
   "pygments_lexer": "ipython3",
   "version": "3.13.1"
  }
 },
 "nbformat": 4,
 "nbformat_minor": 2
}
