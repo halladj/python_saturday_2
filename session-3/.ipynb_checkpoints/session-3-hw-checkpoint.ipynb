{
 "cells": [
  {
   "cell_type": "markdown",
   "id": "a433ccca-d3ab-4cc5-9769-6fe23bc349c8",
   "metadata": {},
   "source": [
    "# 1. Exercise-1: \n",
    "\n",
    " * **Write a Python program that takes a list of numbers as input and prints the sum of all the numbers in the list.**\n",
    "\n"
   ]
  },
  {
   "cell_type": "code",
   "execution_count": null,
   "id": "088e2798-cfe7-4958-be66-2ae93a444b32",
   "metadata": {},
   "outputs": [],
   "source": [
    "my_list = [1,3,6,10,15]\n",
    "s = 0\n",
    "for i in range(len(my_list)):\n",
    "    s = s + my_list[i]\n",
    "print(f\"The sum of this list {my_list} is = {s}\")"
   ]
  },
  {
   "cell_type": "code",
   "execution_count": 39,
   "id": "ffcf5cda-ed4f-4064-a122-5914efdf2e39",
   "metadata": {},
   "outputs": [],
   "source": [
    "from typing import List\n",
    "\n",
    "def list_sum(numbers_list: List[int]):\n",
    "    result = 0\n",
    "    for i in range(len(numbers_list)):\n",
    "        result = result + numbers_list[i]\n",
    "    return result"
   ]
  },
  {
   "cell_type": "code",
   "execution_count": null,
   "id": "9471df2c-c701-4783-9b63-64fb0082a878",
   "metadata": {},
   "outputs": [],
   "source": [
    "print(list_sum([1,3,6,10,15]))"
   ]
  },
  {
   "cell_type": "code",
   "execution_count": null,
   "id": "42bb0018-a093-4233-bab1-22c24d544f10",
   "metadata": {},
   "outputs": [],
   "source": [
    "my_list=[]\n",
    "s = 0\n",
    "length = int(input(\"Please enter the length of the array\"))\n",
    "\n",
    "for i in range(length):\n",
    "    temp = int(input())\n",
    "    my_list.append(temp)\n",
    "\n",
    "for i in range(length):\n",
    "    s = s + my_list[i]\n",
    "print(f\"The sum of this list {my_list} is = {s}\")"
   ]
  },
  {
   "cell_type": "markdown",
   "id": "199f27d9-5e1d-4a75-aef3-79410540d474",
   "metadata": {},
   "source": [
    "# 2. Exercise-2: \n",
    "\n",
    " * **Write a Python program that takes a list of numbers and prints only the even numbers from the list.**\n",
    "\n"
   ]
  },
  {
   "cell_type": "code",
   "execution_count": null,
   "id": "ebe3c2dc-e6ef-490e-98dd-4841a67b1a7e",
   "metadata": {},
   "outputs": [],
   "source": [
    "my_list=[]\n",
    "length = int(input(\"Please enter the length of the array\"))\n",
    "\n",
    "for i in range(length):\n",
    "    temp = int(input())\n",
    "    my_list.append(temp)\n",
    "\n",
    "for element in range(length):\n",
    "    if my_list[element] % 2 == 0:\n",
    "        print(f\"element\")"
   ]
  },
  {
   "cell_type": "code",
   "execution_count": null,
   "id": "4dfa6287-8160-42b8-9ba5-44928158e76b",
   "metadata": {},
   "outputs": [],
   "source": [
    "def read_list(length):\n",
    "    my_list=[]\n",
    "    for i in range(length):\n",
    "        temp = int(input())\n",
    "        my_list.append(temp)\n",
    "    return my_list"
   ]
  },
  {
   "cell_type": "code",
   "execution_count": null,
   "id": "62174a99-39f8-4f7a-9c37-d937c2b66408",
   "metadata": {},
   "outputs": [],
   "source": [
    "def print_even(list_elements):\n",
    "    for i in list_elements:\n",
    "        if i % 2 == 0:\n",
    "            print(i)"
   ]
  },
  {
   "cell_type": "code",
   "execution_count": null,
   "id": "eebc8a05-47f1-495f-aeb8-7974c3d60d5c",
   "metadata": {},
   "outputs": [],
   "source": [
    "def get_even(list_elements):\n",
    "    result= []\n",
    "    for i in list_elements:\n",
    "        if i % 2 == 0:\n",
    "            result.append(i)\n",
    "    return result"
   ]
  },
  {
   "cell_type": "code",
   "execution_count": null,
   "id": "2ef480f0-3d94-4d82-b23e-3a8f365bb4a1",
   "metadata": {},
   "outputs": [],
   "source": [
    "print_even(read_list(5))"
   ]
  },
  {
   "cell_type": "markdown",
   "id": "af24cb84-6037-45f4-85b6-3cb9475685da",
   "metadata": {},
   "source": [
    "# 3. Exercise-3: \n",
    "\n",
    " * **Write a programe that takes a list of numbers and creates a dictionary where the keys are the numbers and the values are the squares of those numbers**\n",
    "\n"
   ]
  },
  {
   "cell_type": "code",
   "execution_count": null,
   "id": "e260362d-14c4-4623-916b-55baa80f0889",
   "metadata": {},
   "outputs": [],
   "source": [
    "x = [234,32,12,45,1]\n",
    "d = {}\n",
    "\n",
    "for i in range(len(x)):\n",
    "    d[x[i]] = x[i] ** 2\n",
    "\n",
    "print(d)"
   ]
  },
  {
   "cell_type": "markdown",
   "id": "96f0b7b8-0d6a-4147-9917-1dda174fcfc0",
   "metadata": {},
   "source": [
    "# 4. Exercise-4: \n",
    "\n",
    " * **Write a programe that takes a list and creates a dictionary where the keys are the elements from the list and the values are the number of times each element appears in the list.**\n",
    "\n"
   ]
  },
  {
   "cell_type": "code",
   "execution_count": null,
   "id": "65ab4ef8-4ff6-4301-abf1-d173c69ae180",
   "metadata": {},
   "outputs": [],
   "source": [
    "x = [234,32,12,45,1,1,1,32,12,12,12]\n",
    "d = {}\n",
    "\n",
    "for i in x:\n",
    "    repetitions = 0\n",
    "    for element in x:\n",
    "        if i == element:\n",
    "            repetitions = repetitions + 1\n",
    "            \n",
    "    d[i] = repetitions\n",
    "print (d)"
   ]
  },
  {
   "cell_type": "code",
   "execution_count": null,
   "id": "a26e61a3-8a14-4e98-b855-7cf5c8685ae2",
   "metadata": {},
   "outputs": [],
   "source": [
    "def rep(l):\n",
    "    d = {}\n",
    "    for i in l:\n",
    "        repetitions = 0\n",
    "        for element in l:\n",
    "            if i == element:\n",
    "                repetitions = repetitions + 1\n",
    "        d[i] = repetitions\n",
    "    return d"
   ]
  },
  {
   "cell_type": "markdown",
   "id": "6b61846f-2a41-4c72-8ad5-d3310bf75826",
   "metadata": {},
   "source": [
    "# 5. Exercise-5: \n",
    "\n",
    " * **Write a program that takes a list of numbers and prints the maximum value from that list without using Python’s built-in max() function. Use a for loop and if statements to compare the elements.**\n",
    "\n"
   ]
  },
  {
   "cell_type": "code",
   "execution_count": null,
   "id": "69c0f0fe-00c5-4260-bc17-4eb7397d836d",
   "metadata": {},
   "outputs": [],
   "source": [
    "x = [234,32,12,45,1,1,1,32,12,12,12,232323]\n",
    "\n",
    "maximum = x[0]\n",
    "for i in range(1, len(x)):\n",
    "    if x[i] > maximum:\n",
    "        maximum = x[i]\n",
    "\n",
    "print(maximum)"
   ]
  },
  {
   "cell_type": "code",
   "execution_count": null,
   "id": "7643088d-c3ba-4f04-88b3-3891ab96bed7",
   "metadata": {},
   "outputs": [],
   "source": [
    "def maxi(num):\n",
    "    maximum = num[0]\n",
    "    for i in range(1, len(num)):\n",
    "        if num[i] > maximum:\n",
    "            maximum = num[i]\n",
    "    return maximum"
   ]
  },
  {
   "cell_type": "code",
   "execution_count": null,
   "id": "89ba2d9a-c404-434a-868e-db4fc67f3361",
   "metadata": {},
   "outputs": [],
   "source": [
    "x = [234,32,12,45,1,1,1,32,12,12,12]\n",
    "maxi(x)"
   ]
  },
  {
   "cell_type": "markdown",
   "id": "d94030a6-d60a-442a-b8e8-678f3a4fe3eb",
   "metadata": {},
   "source": [
    "# 6. Exercise-6: \n",
    "\n",
    " * **Write a program that takes two lists and creates a list of elements that are present in both lists (i.e., the intersection of two lists).**\n",
    "\n"
   ]
  },
  {
   "cell_type": "code",
   "execution_count": null,
   "id": "8712b88e-9721-46cb-86f5-d83510ad0878",
   "metadata": {},
   "outputs": [],
   "source": [
    "x = [3,5 ,6  ,3,2,6, 4]\n",
    "y = [4,61,123,4,1,2, 15]\n",
    "z = []\n",
    "## todo:\n",
    "\n",
    "for i in range(len(x)):\n",
    "    for j in range(len(x)):\n",
    "        if x[i] == y[j]:\n",
    "            z.append(x[i])\n",
    "print(z)"
   ]
  },
  {
   "cell_type": "markdown",
   "id": "fe5fe892-fe4e-4ab8-8bc0-cbf6419d16e3",
   "metadata": {},
   "source": [
    "# 7. Exercise-7: \n",
    "\n",
    " * **Write a program that takes two dictionaries and creates a new dictionary that combines both. If a key appears in both dictionaries, the values should be added together.**\n",
    "\n"
   ]
  },
  {
   "cell_type": "code",
   "execution_count": null,
   "id": "2a1f9375-c4fc-4847-937d-815896ce8ec3",
   "metadata": {},
   "outputs": [],
   "source": []
  },
  {
   "cell_type": "markdown",
   "id": "63a2730d-fe6f-4493-ba29-b575f678968d",
   "metadata": {},
   "source": [
    "# While Loop"
   ]
  },
  {
   "cell_type": "code",
   "execution_count": null,
   "id": "566d6518-9bb2-47cf-85c8-91e9f8e2cc18",
   "metadata": {},
   "outputs": [],
   "source": [
    "# print all the numbers the are smaller than 10 starting for 2.\n",
    "for i in range(3, 10):\n",
    "    print(i)"
   ]
  },
  {
   "cell_type": "code",
   "execution_count": null,
   "id": "fb949252-8fad-4e46-93e6-09b148ee99fe",
   "metadata": {},
   "outputs": [],
   "source": [
    "i = 3\n",
    "while( i < 10 and i >2 ):\n",
    "    print(i)\n",
    "    i = i + 1"
   ]
  },
  {
   "cell_type": "code",
   "execution_count": null,
   "id": "9a0154fb-8dba-4a5c-9f71-1406409af975",
   "metadata": {},
   "outputs": [],
   "source": [
    "## \n",
    "odd_numbers_counter = 0\n",
    "n = 0\n",
    "\n",
    "while odd_numbers_counter < 10:\n",
    "    if n % 2 == 1:\n",
    "        print(n)\n",
    "        odd_numbers_counter = odd_numbers_counter + 1\n",
    "    n = n + 1"
   ]
  }
 ],
 "metadata": {
  "kernelspec": {
   "display_name": "Python 3 (ipykernel)",
   "language": "python",
   "name": "python3"
  },
  "language_info": {
   "codemirror_mode": {
    "name": "ipython",
    "version": 3
   },
   "file_extension": ".py",
   "mimetype": "text/x-python",
   "name": "python",
   "nbconvert_exporter": "python",
   "pygments_lexer": "ipython3",
   "version": "3.11.2"
  }
 },
 "nbformat": 4,
 "nbformat_minor": 5
}
