{
 "cells": [
  {
   "cell_type": "markdown",
   "id": "d2b8a5d9-7b58-43c6-9271-92423561ae62",
   "metadata": {},
   "source": [
    "# dictionary_functions"
   ]
  },
  {
   "cell_type": "markdown",
   "id": "c0ddae32-8bfe-4e30-8e3f-eac58a710d0f",
   "metadata": {},
   "source": [
    "## Exercise 1: Basic Dictionary Operations\n",
    "\n",
    "#### Create a dictionary called **student_info** that stores the following information:\n",
    "{\n",
    "    \"name\" : \"Alice\",\n",
    "    \"age\" : 21,\n",
    "    \"grade\" : \"B+\"\n",
    "}"
   ]
  },
  {
   "cell_type": "code",
   "execution_count": 16,
   "id": "f20b7811-a1fd-401b-89d2-c15bb6c0a33f",
   "metadata": {},
   "outputs": [],
   "source": []
  },
  {
   "cell_type": "code",
   "execution_count": null,
   "id": "4fecf145-3f3c-4375-b32c-f642fe41a1ce",
   "metadata": {},
   "outputs": [],
   "source": []
  },
  {
   "cell_type": "code",
   "execution_count": null,
   "id": "85998aba-dc6c-4cf2-aba8-0e9fea331d5f",
   "metadata": {},
   "outputs": [],
   "source": []
  },
  {
   "cell_type": "markdown",
   "id": "ba1e3bd2-9a9a-439f-b3b5-f8c5c16e166a",
   "metadata": {},
   "source": [
    "## Exercise 2: Using Functions with Dictionaries"
   ]
  },
  {
   "cell_type": "markdown",
   "id": "104d61c9-33ab-4d25-9331-5d04a5a687f2",
   "metadata": {},
   "source": [
    "#### Write a function get_age(student) that takes a dictionary student as input and returns the age of the student."
   ]
  },
  {
   "cell_type": "code",
   "execution_count": 5,
   "id": "8da214d0-5b81-4560-901e-f52659043c15",
   "metadata": {},
   "outputs": [],
   "source": []
  },
  {
   "cell_type": "code",
   "execution_count": null,
   "id": "4e5dc375-265d-4e9e-8696-9aaa49db6213",
   "metadata": {},
   "outputs": [],
   "source": []
  },
  {
   "cell_type": "markdown",
   "id": "68131062-5b2d-4227-b4c9-2a78c443a065",
   "metadata": {},
   "source": [
    "#### Test the get_age function with the following dictionary:"
   ]
  },
  {
   "cell_type": "code",
   "execution_count": null,
   "id": "af5cd3d6-3265-459f-9e40-3fe76dc6b988",
   "metadata": {},
   "outputs": [],
   "source": []
  },
  {
   "cell_type": "markdown",
   "id": "4dd01eb5-7d3f-448d-9cc3-f21874efe02f",
   "metadata": {},
   "source": [
    "#### Write another function called update_grade(student, new_grade) that updates the student's grade."
   ]
  },
  {
   "cell_type": "code",
   "execution_count": 11,
   "id": "ae352ac0-872d-40e4-a93c-1810374c4244",
   "metadata": {},
   "outputs": [],
   "source": []
  },
  {
   "cell_type": "code",
   "execution_count": null,
   "id": "76fdd32a",
   "metadata": {},
   "outputs": [],
   "source": []
  },
  {
   "cell_type": "code",
   "execution_count": null,
   "id": "8a21fe41-0f7c-4b71-b566-0e37b85df469",
   "metadata": {},
   "outputs": [],
   "source": []
  },
  {
   "cell_type": "markdown",
   "id": "7d2f048d-02ec-43b9-8794-d301664bebf3",
   "metadata": {},
   "source": [
    "## Exercise 3: Looping Through a Dictionary"
   ]
  },
  {
   "cell_type": "markdown",
   "id": "13ab859f-0a66-4116-b772-d21fa5025f80",
   "metadata": {},
   "source": [
    "#### Write a function print_student_info(student) that prints each key and value in the student dictionary."
   ]
  },
  {
   "cell_type": "code",
   "execution_count": null,
   "id": "28d3361e-b44e-4ab9-9553-240df216d34a",
   "metadata": {},
   "outputs": [],
   "source": []
  },
  {
   "cell_type": "code",
   "execution_count": 30,
   "id": "e2d170cc-deb7-40ec-8a66-2dec19aa072f",
   "metadata": {},
   "outputs": [],
   "source": []
  },
  {
   "cell_type": "code",
   "execution_count": null,
   "id": "2b341e1f-47a4-47f6-8e5d-10fd12547b39",
   "metadata": {},
   "outputs": [],
   "source": []
  },
  {
   "cell_type": "markdown",
   "id": "3e2a2dc6-01e1-41a1-b30a-ffc95243c617",
   "metadata": {},
   "source": [
    "## Exercise 4: Dictionary of Dictionaries"
   ]
  },
  {
   "cell_type": "markdown",
   "id": "244c5ca5-8f0b-44a7-bec6-e72f5ac444dc",
   "metadata": {},
   "source": [
    "#### Create a dictionary **class_info** where each key is a student’s name and the value is another dictionary containing the student’s age and grade:"
   ]
  },
  {
   "cell_type": "code",
   "execution_count": 2,
   "id": "c675c600-e910-4392-8a4a-e9e1ed80d4d8",
   "metadata": {},
   "outputs": [],
   "source": []
  },
  {
   "cell_type": "code",
   "execution_count": 34,
   "id": "e07740dc-25ee-48dd-ba28-bb7c8ab72adc",
   "metadata": {},
   "outputs": [],
   "source": []
  },
  {
   "cell_type": "code",
   "execution_count": null,
   "id": "ddce562e-3f12-4d72-941d-b8b22d453194",
   "metadata": {},
   "outputs": [],
   "source": []
  },
  {
   "cell_type": "code",
   "execution_count": null,
   "id": "c9137a5d-2196-489c-87cb-c033718f1525",
   "metadata": {},
   "outputs": [],
   "source": []
  },
  {
   "cell_type": "markdown",
   "id": "cb9de759-6746-466c-bd16-d5a06c9a6b75",
   "metadata": {},
   "source": [
    "#### Write a function **get_student_grade(class_info, student_name)** that takes the class_info dictionary and a student_name, and returns the student's grade."
   ]
  },
  {
   "cell_type": "code",
   "execution_count": 6,
   "id": "d69ac87e-57a1-418b-b981-97ed05f73155",
   "metadata": {},
   "outputs": [],
   "source": []
  },
  {
   "cell_type": "code",
   "execution_count": null,
   "id": "5232ed8f-3752-47e1-825d-bb278573a469",
   "metadata": {},
   "outputs": [],
   "source": []
  }
 ],
 "metadata": {
  "kernelspec": {
   "display_name": "Python 3 (ipykernel)",
   "language": "python",
   "name": "python3"
  },
  "language_info": {
   "codemirror_mode": {
    "name": "ipython",
    "version": 3
   },
   "file_extension": ".py",
   "mimetype": "text/x-python",
   "name": "python",
   "nbconvert_exporter": "python",
   "pygments_lexer": "ipython3",
   "version": "3.11.2"
  }
 },
 "nbformat": 4,
 "nbformat_minor": 5
}
