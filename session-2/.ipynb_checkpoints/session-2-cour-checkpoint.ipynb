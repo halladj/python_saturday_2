{
 "cells": [
  {
   "cell_type": "code",
   "execution_count": null,
   "id": "58dcb6d1-1fd9-4a1c-8aad-46462bc3aae6",
   "metadata": {},
   "outputs": [],
   "source": [
    "n = int(input())\n",
    "\n",
    "co = 0\n",
    "for i in range(1, n):\n",
    "    if i > n/2:\n",
    "        break\n",
    "    if n % i == 0:\n",
    "        co  = co +1\n",
    "    if co > 2:\n",
    "        break"
   ]
  },
  {
   "cell_type": "code",
   "execution_count": null,
   "id": "67bb2a57-0e5e-429b-a3cc-cfbad5538137",
   "metadata": {},
   "outputs": [],
   "source": []
  },
  {
   "cell_type": "code",
   "execution_count": null,
   "id": "dd7fce3e-98ab-4d50-8a48-b3b2dc129c1f",
   "metadata": {},
   "outputs": [],
   "source": []
  },
  {
   "cell_type": "code",
   "execution_count": null,
   "id": "638576b8-a8a6-492c-8012-e606780253f7",
   "metadata": {},
   "outputs": [],
   "source": []
  },
  {
   "cell_type": "code",
   "execution_count": null,
   "id": "b3ff6f7a-04af-408c-b463-1d99953e6513",
   "metadata": {},
   "outputs": [],
   "source": []
  },
  {
   "cell_type": "code",
   "execution_count": null,
   "id": "6e300b27-9160-4ec3-8955-85ca3763fa30",
   "metadata": {},
   "outputs": [],
   "source": []
  },
  {
   "cell_type": "code",
   "execution_count": null,
   "id": "81227ebf-31ef-42bf-a5cf-d7864ec2cfd8",
   "metadata": {},
   "outputs": [],
   "source": []
  },
  {
   "cell_type": "code",
   "execution_count": null,
   "id": "27122fa9-8555-4ac3-8252-a7bcc51872fe",
   "metadata": {},
   "outputs": [],
   "source": []
  },
  {
   "cell_type": "markdown",
   "id": "30750378-e140-4922-811d-1b3d9846e5c9",
   "metadata": {},
   "source": [
    "# Logical Operators"
   ]
  },
  {
   "cell_type": "markdown",
   "id": "7452428a-a913-4941-bac2-0e1788c2bd91",
   "metadata": {},
   "source": [
    "#### Greater than"
   ]
  },
  {
   "cell_type": "code",
   "execution_count": 38,
   "id": "5ecb725b-8aba-48da-a334-eb22bee23b57",
   "metadata": {},
   "outputs": [
    {
     "name": "stdout",
     "output_type": "stream",
     "text": [
      "False\n"
     ]
    }
   ],
   "source": [
    "num1 =10\n",
    "num2 =20\n",
    "\n",
    "print(num1 > num2)"
   ]
  },
  {
   "cell_type": "markdown",
   "id": "05fdb3a2-813d-420e-8db1-7c63ca78b270",
   "metadata": {},
   "source": [
    "#### Greater than or equal"
   ]
  },
  {
   "cell_type": "code",
   "execution_count": 39,
   "id": "980bf9fb-f3ba-4771-9887-7092690e4734",
   "metadata": {},
   "outputs": [
    {
     "name": "stdout",
     "output_type": "stream",
     "text": [
      "False\n"
     ]
    }
   ],
   "source": [
    "print(num1 >= num2)"
   ]
  },
  {
   "cell_type": "markdown",
   "id": "ced35c48-dcba-4fc8-936d-cc4b0ed67f37",
   "metadata": {},
   "source": [
    "#### less than or equal"
   ]
  },
  {
   "cell_type": "code",
   "execution_count": 40,
   "id": "304263a6-dd8f-4ac7-9085-8dd8d3b0fffe",
   "metadata": {},
   "outputs": [
    {
     "name": "stdout",
     "output_type": "stream",
     "text": [
      "True\n"
     ]
    }
   ],
   "source": [
    "print(num1 <= num2)"
   ]
  },
  {
   "cell_type": "markdown",
   "id": "769cfded-0fe1-417b-ab8c-9f131ecac4f8",
   "metadata": {},
   "source": [
    "#### equal"
   ]
  },
  {
   "cell_type": "code",
   "execution_count": 41,
   "id": "47c1aaad-99ae-426d-ad3c-76521e513f5a",
   "metadata": {},
   "outputs": [
    {
     "name": "stdout",
     "output_type": "stream",
     "text": [
      "False\n"
     ]
    }
   ],
   "source": [
    "print(num1 == num2)"
   ]
  },
  {
   "cell_type": "markdown",
   "id": "e3e74b58-c321-4a07-a5e1-3a3c0574d8e4",
   "metadata": {},
   "source": [
    "#### not equal"
   ]
  },
  {
   "cell_type": "code",
   "execution_count": 42,
   "id": "a4d44a08-31ac-42ce-97c2-a898ec13d2ac",
   "metadata": {},
   "outputs": [
    {
     "name": "stdout",
     "output_type": "stream",
     "text": [
      "True\n"
     ]
    }
   ],
   "source": [
    "print(num1 != num2)"
   ]
  },
  {
   "cell_type": "markdown",
   "id": "c765137d-2db4-4f1d-af05-f646d7b8bd8b",
   "metadata": {},
   "source": [
    "### Ask user to enter two number x, y and compare them."
   ]
  },
  {
   "cell_type": "code",
   "execution_count": 62,
   "id": "067788aa-cb81-4a4c-b80a-84b45949e1f7",
   "metadata": {},
   "outputs": [
    {
     "name": "stdin",
     "output_type": "stream",
     "text": [
      "Please enter a number 10\n"
     ]
    }
   ],
   "source": [
    "x = input(\"Please enter a number\")"
   ]
  },
  {
   "cell_type": "code",
   "execution_count": 61,
   "id": "ac019936-8a62-4329-b0ad-802271519828",
   "metadata": {},
   "outputs": [
    {
     "data": {
      "text/plain": [
       "int"
      ]
     },
     "execution_count": 61,
     "metadata": {},
     "output_type": "execute_result"
    }
   ],
   "source": [
    "type(x)"
   ]
  },
  {
   "cell_type": "code",
   "execution_count": 63,
   "id": "ec0181d2-c482-4e19-b62c-20168dd91a00",
   "metadata": {},
   "outputs": [],
   "source": [
    "x = int( x )"
   ]
  },
  {
   "cell_type": "code",
   "execution_count": 46,
   "id": "87f2d483-aea4-4001-a11d-6c79eaff9a65",
   "metadata": {},
   "outputs": [
    {
     "data": {
      "text/plain": [
       "int"
      ]
     },
     "execution_count": 46,
     "metadata": {},
     "output_type": "execute_result"
    }
   ],
   "source": [
    "type(x)"
   ]
  },
  {
   "cell_type": "code",
   "execution_count": 68,
   "id": "c7e5be17-1e52-4823-a275-63095c681b6d",
   "metadata": {},
   "outputs": [
    {
     "name": "stdin",
     "output_type": "stream",
     "text": [
      "Please enter a number 10\n"
     ]
    }
   ],
   "source": [
    "y = int( input(\"Please enter a number\") )"
   ]
  },
  {
   "cell_type": "code",
   "execution_count": 69,
   "id": "6a59df51-01dc-4646-8d25-237e8aa26f8d",
   "metadata": {},
   "outputs": [
    {
     "name": "stdout",
     "output_type": "stream",
     "text": [
      "nothing is working\n"
     ]
    }
   ],
   "source": [
    "if x > y:\n",
    "    print( f\"{x} > {y} == {x > y}\")\n",
    "elif x < y: \n",
    "    print( f\"{x} < {y} == {x < y}\")\n",
    "\n",
    "elif x != y:    \n",
    "    print( f\"{x} != {y} == {x != y}\")\n",
    "else:\n",
    "    print(\"nothing is working\")"
   ]
  },
  {
   "cell_type": "markdown",
   "id": "9e1befb6-5664-4629-aaca-8b8197202990",
   "metadata": {},
   "source": [
    "# Calculator\n",
    "* ### Create a calculator programe where it asks the user  for two numbers, num1, and num2\n",
    "* ### and an operation (+, -, *, /). Using if stetments comlete the task."
   ]
  },
  {
   "cell_type": "code",
   "execution_count": 76,
   "id": "f356d7b2-babb-498c-9beb-b1ff2200c2c7",
   "metadata": {},
   "outputs": [
    {
     "name": "stdin",
     "output_type": "stream",
     "text": [
      "Please give me the first number 1\n",
      "Please give me the second number 0\n",
      "please give me an operation from the following: +, -, *, / /\n"
     ]
    },
    {
     "name": "stdout",
     "output_type": "stream",
     "text": [
      "Can not divide by zero\n"
     ]
    }
   ],
   "source": [
    "num1 = int (input(\"Please give me the first number\"))\n",
    "num2 = int (input(\"Please give me the second number\"))\n",
    "op = input(\"please give me an operation from the following: +, -, *, /\") \n",
    "\n",
    "num1 = 10\n",
    "num2 = 0\n",
    "op = /\n",
    "\n",
    "if op == \"+\":\n",
    "    print(f\"{num1} {op} {num2} == {num1 + num2}\")\n",
    "elif op == \"-\":\n",
    "    print(f\"{num1} {op} {num2} == {num1 - num2}\")\n",
    "elif op == \"*\":\n",
    "    print(f\"{num1} {op} {num2} == {num1 * num2}\")\n",
    "elif op == \"/\":\n",
    "    if num2 != 0:\n",
    "        print(f\"{num1} {op} {num2} == {num1 / num2}\")\n",
    "    else:\n",
    "        print(\"Can not divide by zero\")\n",
    "else:\n",
    "    print(\"Invalid Operation\")"
   ]
  },
  {
   "cell_type": "code",
   "execution_count": 81,
   "id": "2a287ddb-3517-4e22-ad3f-4977a2c44405",
   "metadata": {},
   "outputs": [
    {
     "name": "stdin",
     "output_type": "stream",
     "text": [
      " -16\n"
     ]
    },
    {
     "name": "stdout",
     "output_type": "stream",
     "text": [
      "x is positive and does not equal 15\n"
     ]
    }
   ],
   "source": [
    "x = int(input())\n",
    "\n",
    "if x >= 0 or x != 15:\n",
    "    print(\"x is positive and does not equal 15\")\n",
    "else:\n",
    "    "
   ]
  },
  {
   "cell_type": "code",
   "execution_count": 84,
   "id": "d3b641cd-bdf3-4493-a181-3ae7bbf45fc5",
   "metadata": {},
   "outputs": [],
   "source": [
    "x = []\n",
    "for i in range(5):    #[0, 10[\n",
    "    x.append(i)\n",
    "\n"
   ]
  },
  {
   "cell_type": "code",
   "execution_count": 87,
   "id": "7af1c924-af38-45a7-bb81-4051faaa80ba",
   "metadata": {},
   "outputs": [],
   "source": [
    "x = []\n",
    "for i in range(5, 10):    # [5, 10[\n",
    "    x.append(i)"
   ]
  },
  {
   "cell_type": "code",
   "execution_count": 93,
   "id": "9cf63691-87d2-4fd1-9a8d-19c4b4757872",
   "metadata": {},
   "outputs": [],
   "source": [
    "x = []\n",
    "for i in range(10, 5, -2):    \n",
    "    x.append(i)"
   ]
  },
  {
   "cell_type": "code",
   "execution_count": 94,
   "id": "7dfb7f64-28da-4ea1-b349-71aea37b2258",
   "metadata": {},
   "outputs": [
    {
     "name": "stdout",
     "output_type": "stream",
     "text": [
      "[10, 8, 6]\n"
     ]
    }
   ],
   "source": [
    "print(x)"
   ]
  },
  {
   "cell_type": "markdown",
   "id": "5f1e9b92-e042-46f1-b93f-9950a3f9c2d4",
   "metadata": {},
   "source": [
    "# Invert this list, [1,2,3,4,5,6]"
   ]
  },
  {
   "cell_type": "code",
   "execution_count": 12,
   "id": "016ac4ab-7195-4fc5-a560-4ab41f74cea2",
   "metadata": {},
   "outputs": [
    {
     "data": {
      "text/plain": [
       "[8, 9, 7, 6, 5, 4, 3, 2, 1]"
      ]
     },
     "execution_count": 12,
     "metadata": {},
     "output_type": "execute_result"
    }
   ],
   "source": [
    "my_list = [1,2,3,4,5,6,7,9,8]\n",
    "\n",
    "new_list = []\n",
    "for i in range(len(my_list), 0, -1):\n",
    "    temp = my_list.pop(i-1)\n",
    "    new_list.append( temp )\n",
    "# [6, 0[\n",
    "new_list"
   ]
  },
  {
   "cell_type": "code",
   "execution_count": 24,
   "id": "2bd9e70c-5c67-44fd-a8f2-21dacd06e5cf",
   "metadata": {},
   "outputs": [],
   "source": [
    "def sum_func(num1, num2):\n",
    "    return num1 + num2"
   ]
  },
  {
   "cell_type": "code",
   "execution_count": 23,
   "id": "14a5f62b-b010-4e0b-a911-98020cb29fb2",
   "metadata": {},
   "outputs": [
    {
     "data": {
      "text/plain": [
       "3.5"
      ]
     },
     "execution_count": 23,
     "metadata": {},
     "output_type": "execute_result"
    }
   ],
   "source": [
    "sum_func(1, 2.5)"
   ]
  },
  {
   "cell_type": "code",
   "execution_count": 135,
   "id": "c03d9c99-9997-42e8-8bc1-c318ab53d288",
   "metadata": {},
   "outputs": [
    {
     "data": {
      "text/plain": [
       "10"
      ]
     },
     "execution_count": 135,
     "metadata": {},
     "output_type": "execute_result"
    }
   ],
   "source": [
    "x= [23,17,4,1,7,-5, 6 ,29, 0, 4] # NUmber of elements = 6, biggest index == 5\n",
    "y=[] \n",
    "\n",
    "len(x)"
   ]
  },
  {
   "cell_type": "code",
   "execution_count": 136,
   "id": "8d8511ea-0aa8-45cc-8df3-b854e505ae7c",
   "metadata": {},
   "outputs": [],
   "source": [
    "for i in range(len(x) - 1,-1,-1):\n",
    "    y.append(x[i])"
   ]
  },
  {
   "cell_type": "code",
   "execution_count": 137,
   "id": "9697d0c2-de50-4a6a-8ecc-7c7706982935",
   "metadata": {},
   "outputs": [
    {
     "name": "stdout",
     "output_type": "stream",
     "text": [
      "[4, 0, 29, 6, -5, 7, 1, 4, 17, 23]\n"
     ]
    }
   ],
   "source": [
    "print(y)"
   ]
  },
  {
   "cell_type": "markdown",
   "id": "04aae404-cc6f-4141-8a72-e16442c038b2",
   "metadata": {},
   "source": [
    "# Dictionnary"
   ]
  },
  {
   "cell_type": "code",
   "execution_count": 148,
   "id": "a3b4a5ad-c03f-481a-9792-85092bfe1829",
   "metadata": {},
   "outputs": [],
   "source": [
    "my_list = [1,2,3]\n",
    "my_dict = { \"x\":1, \"y\":15}"
   ]
  },
  {
   "cell_type": "code",
   "execution_count": 149,
   "id": "82ec35e1-af45-4fea-a6e8-c37dedd8aac9",
   "metadata": {},
   "outputs": [
    {
     "name": "stdout",
     "output_type": "stream",
     "text": [
      "dict_keys(['x', 'y'])\n"
     ]
    }
   ],
   "source": [
    "print(my_dict.keys())"
   ]
  },
  {
   "cell_type": "code",
   "execution_count": 150,
   "id": "0ef53537-5740-424b-87c6-c7a2cd4e474b",
   "metadata": {},
   "outputs": [
    {
     "name": "stdout",
     "output_type": "stream",
     "text": [
      "dict_values([1, 15])\n"
     ]
    }
   ],
   "source": [
    "print(my_dict.values())"
   ]
  },
  {
   "cell_type": "code",
   "execution_count": 152,
   "id": "782964b0-0803-4d39-9665-ecc9f1ab79cc",
   "metadata": {},
   "outputs": [
    {
     "name": "stdout",
     "output_type": "stream",
     "text": [
      "15\n"
     ]
    }
   ],
   "source": [
    "print(my_dict[\"y\"])"
   ]
  },
  {
   "cell_type": "code",
   "execution_count": 153,
   "id": "9db7b9d7-c26a-494c-a415-b8999d696b15",
   "metadata": {},
   "outputs": [],
   "source": [
    "my_dict[\"z\"] = 20 "
   ]
  },
  {
   "cell_type": "code",
   "execution_count": 154,
   "id": "b1388f36-9a4f-470b-8e73-6cca2be254a3",
   "metadata": {},
   "outputs": [
    {
     "name": "stdout",
     "output_type": "stream",
     "text": [
      "{'x': 1, 'y': 15, 'z': 20}\n"
     ]
    }
   ],
   "source": [
    "print(my_dict)"
   ]
  },
  {
   "cell_type": "markdown",
   "id": "ae80d43c-0f10-46f9-861e-7d6707e6af0c",
   "metadata": {},
   "source": [
    "### **Create a function that determines the max between two numbers:**\n"
   ]
  },
  {
   "cell_type": "code",
   "execution_count": 27,
   "id": "12902232-c7b2-44af-a349-78b3766b9826",
   "metadata": {},
   "outputs": [],
   "source": [
    "def max_func ( num1:int, num2:int) -> int:\n",
    "    if num1 >= num2:\n",
    "        return num1\n",
    "    else:\n",
    "        return num2"
   ]
  },
  {
   "cell_type": "code",
   "execution_count": 28,
   "id": "45be4857-bff7-4746-95da-daa334fd8e70",
   "metadata": {},
   "outputs": [
    {
     "data": {
      "text/plain": [
       "10"
      ]
     },
     "execution_count": 28,
     "metadata": {},
     "output_type": "execute_result"
    }
   ],
   "source": [
    "max_func(10, 5)"
   ]
  },
  {
   "cell_type": "code",
   "execution_count": 29,
   "id": "729b970b-b2ed-480c-9eda-36224e77dd15",
   "metadata": {},
   "outputs": [
    {
     "data": {
      "text/plain": [
       "6"
      ]
     },
     "execution_count": 29,
     "metadata": {},
     "output_type": "execute_result"
    }
   ],
   "source": [
    "max_func(3,6)"
   ]
  },
  {
   "cell_type": "markdown",
   "id": "52e97c03-dacd-456b-9bcf-7b0181eb72b9",
   "metadata": {},
   "source": [
    "### **Given a list of numbers find the biggest element, using the former function:**\n",
    "\n",
    "[2,4,6,12,1,45]"
   ]
  },
  {
   "cell_type": "code",
   "execution_count": 35,
   "id": "566be16f-b305-4f97-8c40-2d296295fa68",
   "metadata": {},
   "outputs": [],
   "source": [
    "def list_max(l):\n",
    "    max_value = l[0]\n",
    "    for i in range(1, len(l)):\n",
    "        max_value = max_func( max_value, l[i])\n",
    "    return max_value"
   ]
  },
  {
   "cell_type": "code",
   "execution_count": 38,
   "id": "2abf55b3-9416-4b86-a2d8-bccd0fae197b",
   "metadata": {},
   "outputs": [
    {
     "data": {
      "text/plain": [
       "456"
      ]
     },
     "execution_count": 38,
     "metadata": {},
     "output_type": "execute_result"
    }
   ],
   "source": [
    "l = [2,4,456,6,12,1,45,111]\n",
    "list_max(l)"
   ]
  }
 ],
 "metadata": {
  "kernelspec": {
   "display_name": "Python 3 (ipykernel)",
   "language": "python",
   "name": "python3"
  },
  "language_info": {
   "codemirror_mode": {
    "name": "ipython",
    "version": 3
   },
   "file_extension": ".py",
   "mimetype": "text/x-python",
   "name": "python",
   "nbconvert_exporter": "python",
   "pygments_lexer": "ipython3",
   "version": "3.11.2"
  }
 },
 "nbformat": 4,
 "nbformat_minor": 5
}
