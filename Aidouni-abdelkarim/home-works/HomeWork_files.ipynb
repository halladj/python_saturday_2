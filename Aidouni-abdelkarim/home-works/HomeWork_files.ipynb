{
 "cells": [
  {
   "cell_type": "markdown",
   "id": "242e2734-5a87-476a-b229-cb85194980a8",
   "metadata": {},
   "source": [
    "# Homework: Files and Directories Manipulation:"
   ]
  },
  {
   "cell_type": "markdown",
   "id": "3b76d880",
   "metadata": {},
   "source": [
    "# Execice-1: Create the following files hierarchy\n",
    "\n",
    "![](./graph.png)"
   ]
  },
  {
   "cell_type": "code",
   "execution_count": 2,
   "id": "da0cf25c",
   "metadata": {},
   "outputs": [
    {
     "data": {
      "text/plain": [
       "PosixPath('/Users/abdelkarimaidouni/python_saturday_2/Aidouni-abdelkarim/home-works')"
      ]
     },
     "execution_count": 2,
     "metadata": {},
     "output_type": "execute_result"
    }
   ],
   "source": []
  },
  {
   "cell_type": "code",
   "execution_count": 3,
   "id": "7ceb3b69",
   "metadata": {},
   "outputs": [],
   "source": [
    "\n",
    "\n"
   ]
  },
  {
   "cell_type": "markdown",
   "id": "6cb69094",
   "metadata": {},
   "source": [
    "# Exercise-2: Move into all these directories, using os.chdir()."
   ]
  },
  {
   "cell_type": "code",
   "execution_count": null,
   "id": "615a2e83",
   "metadata": {},
   "outputs": [],
   "source": []
  }
 ],
 "metadata": {
  "kernelspec": {
   "display_name": "Python 3 (ipykernel)",
   "language": "python",
   "name": "python3"
  },
  "language_info": {
   "codemirror_mode": {
    "name": "ipython",
    "version": 3
   },
   "file_extension": ".py",
   "mimetype": "text/x-python",
   "name": "python",
   "nbconvert_exporter": "python",
   "pygments_lexer": "ipython3",
   "version": "3.13.0"
  }
 },
 "nbformat": 4,
 "nbformat_minor": 5
}
