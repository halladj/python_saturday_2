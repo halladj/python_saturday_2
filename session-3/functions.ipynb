{
 "cells": [
  {
   "cell_type": "markdown",
   "id": "9ed16459-4855-41e2-aa0f-7e6eb8ed2ba5",
   "metadata": {},
   "source": [
    "# Functions\n",
    "\n",
    "### **What is a function ?**\n",
    "\n",
    "* Functions are reusable blocks of code that perform a specific task. You can define your own functions and use them multiple times in your programs.\n",
    "\n",
    "### **How to define a function:**\n",
    "\n",
    "![title](./img/pic.png)"
   ]
  },
  {
   "cell_type": "code",
   "execution_count": 12,
   "id": "e64fad2f-9c06-42de-a596-bd9d02e29630",
   "metadata": {},
   "outputs": [],
   "source": [
    "## Type it here"
   ]
  },
  {
   "cell_type": "markdown",
   "id": "10e7584c-2f30-4068-8dcd-ce25ac0a7394",
   "metadata": {},
   "source": [
    "### **How to Call (execute) a function:**\n",
    "\n",
    "\n",
    "![title](./img/2.png)"
   ]
  },
  {
   "cell_type": "code",
   "execution_count": 1,
   "id": "539f8125-a7ce-4669-945f-46cbbf05c18a",
   "metadata": {},
   "outputs": [],
   "source": [
    "## Write it down\n"
   ]
  },
  {
   "cell_type": "markdown",
   "id": "1c43dfce-b62b-4332-b31e-72bf5c279647",
   "metadata": {},
   "source": [
    "### Parameters & Arguments:\n",
    "\n",
    "![title](./img/3.png)"
   ]
  },
  {
   "cell_type": "code",
   "execution_count": 8,
   "id": "ae89b4fc-b8f2-458f-a172-b3483531a939",
   "metadata": {},
   "outputs": [],
   "source": [
    "## write the code"
   ]
  },
  {
   "cell_type": "code",
   "execution_count": 11,
   "id": "b48197a3-1aee-4b96-be58-aaebf99b1e33",
   "metadata": {},
   "outputs": [
    {
     "name": "stdout",
     "output_type": "stream",
     "text": [
      "5\n"
     ]
    }
   ],
   "source": []
  },
  {
   "cell_type": "code",
   "execution_count": 15,
   "id": "300ecf7e-2179-4872-a2ca-639f6fa64a68",
   "metadata": {},
   "outputs": [
    {
     "name": "stdout",
     "output_type": "stream",
     "text": [
      "5\n"
     ]
    }
   ],
   "source": []
  },
  {
   "cell_type": "code",
   "execution_count": null,
   "id": "73075b16-f919-4c82-bf55-6245bba0385f",
   "metadata": {},
   "outputs": [],
   "source": []
  },
  {
   "cell_type": "markdown",
   "id": "668d4672-5ac2-47a6-af23-c8ad4a2036db",
   "metadata": {},
   "source": [
    "### **Return Keyword:**\n",
    "\n",
    "![](img/4.png)"
   ]
  },
  {
   "cell_type": "code",
   "execution_count": 18,
   "id": "69d0f946-fdc9-4118-9c80-1a978f7f0565",
   "metadata": {},
   "outputs": [],
   "source": [
    "## type code"
   ]
  },
  {
   "cell_type": "code",
   "execution_count": null,
   "id": "49ada88d-e0e6-484e-b661-52197e84dec6",
   "metadata": {},
   "outputs": [],
   "source": []
  },
  {
   "cell_type": "code",
   "execution_count": null,
   "id": "ef1f51ae-c1c0-40a9-9a7d-7ef71ae723dc",
   "metadata": {},
   "outputs": [],
   "source": []
  },
  {
   "cell_type": "markdown",
   "id": "51e6d36b-7409-4f74-8446-6ff01285c4da",
   "metadata": {},
   "source": [
    "### Create a function that returns a list, containing an interval."
   ]
  },
  {
   "cell_type": "code",
   "execution_count": null,
   "id": "703a15ab-5d85-4850-a430-cba54f6b4eb7",
   "metadata": {},
   "outputs": [],
   "source": []
  },
  {
   "cell_type": "code",
   "execution_count": 23,
   "id": "38eff81b-17fa-4821-bd64-e7b3c203159f",
   "metadata": {},
   "outputs": [],
   "source": []
  },
  {
   "cell_type": "markdown",
   "id": "71c1236b-c346-442c-a960-28f44d5893e0",
   "metadata": {},
   "source": [
    "## Create a function that does ^2"
   ]
  },
  {
   "cell_type": "code",
   "execution_count": 20,
   "id": "a9641514-891d-4f57-a401-9805966f227d",
   "metadata": {},
   "outputs": [
    {
     "name": "stdout",
     "output_type": "stream",
     "text": [
      "64\n"
     ]
    }
   ],
   "source": []
  },
  {
   "cell_type": "markdown",
   "id": "09ec78ae-4a39-4c76-8ada-17bb03f6994e",
   "metadata": {},
   "source": [
    "### Create a function that finds if a number function is even or not "
   ]
  },
  {
   "cell_type": "code",
   "execution_count": 28,
   "id": "38daf7b4-4a18-440f-83d6-3838bc7ed41c",
   "metadata": {},
   "outputs": [],
   "source": []
  },
  {
   "cell_type": "code",
   "execution_count": 33,
   "id": "644039bd-d84d-424d-8b9d-2fceb2363e85",
   "metadata": {},
   "outputs": [
    {
     "data": {
      "text/plain": [
       "True"
      ]
     },
     "execution_count": 33,
     "metadata": {},
     "output_type": "execute_result"
    }
   ],
   "source": []
  },
  {
   "cell_type": "markdown",
   "id": "dab9ad77-224e-4c66-8aa7-c98f0a0d464d",
   "metadata": {},
   "source": [
    "### **Make Home Work code into functions:**\n",
    "\n",
    "\n",
    "\n",
    "\n"
   ]
  },
  {
   "cell_type": "markdown",
   "id": "715fc87a-de40-41b8-bdcb-d7b40f33ad0b",
   "metadata": {},
   "source": [
    "### **Defualt Values Params:**"
   ]
  },
  {
   "cell_type": "code",
   "execution_count": 8,
   "id": "e63d065e-a39e-464c-a75e-3d6d1eec691a",
   "metadata": {},
   "outputs": [],
   "source": [
    "def my_function(country = \"Norway\"):\n",
    "  print(\"I am from \" + country)\n"
   ]
  },
  {
   "cell_type": "markdown",
   "id": "55d32418-81f9-4a86-9441-3db30f82a646",
   "metadata": {},
   "source": [
    "### **Keyword & Positional Arguments:**"
   ]
  },
  {
   "cell_type": "markdown",
   "id": "d20e538d-8923-4bc7-ac20-e716a1394944",
   "metadata": {},
   "source": [
    "* **Keyword-only**:\n",
    "    * add * , before the arguments:\n",
    "\n"
   ]
  },
  {
   "cell_type": "code",
   "execution_count": 7,
   "id": "711ba5d0-e73e-42a7-a5f1-6988c4d5a2cd",
   "metadata": {},
   "outputs": [
    {
     "name": "stdout",
     "output_type": "stream",
     "text": [
      "3\n"
     ]
    }
   ],
   "source": [
    "def my_function(*, x):\n",
    "  print(x)\n",
    "\n",
    "my_function(x = 3) "
   ]
  },
  {
   "cell_type": "markdown",
   "id": "e56b7eef-dd9a-4695-a5f4-c9b037eeb37b",
   "metadata": {},
   "source": [
    "* **Positional-only**:\n",
    "    * add , / after the arguments:"
   ]
  },
  {
   "cell_type": "code",
   "execution_count": 9,
   "id": "aa1746f6-5e9f-403c-adc2-bfed326fbc97",
   "metadata": {},
   "outputs": [
    {
     "name": "stdout",
     "output_type": "stream",
     "text": [
      "3\n"
     ]
    }
   ],
   "source": [
    "def my_function(x, /):\n",
    "  print(x)\n",
    "\n",
    "my_function(3) "
   ]
  },
  {
   "cell_type": "markdown",
   "id": "2a720c6a-23f2-4774-95d1-b21c934ae9dd",
   "metadata": {},
   "source": [
    "* **Combine Positional-Only and Keyword-Only:**"
   ]
  },
  {
   "cell_type": "code",
   "execution_count": 10,
   "id": "849b5cd1-8d0d-43d6-aeb3-86a1cbed2537",
   "metadata": {},
   "outputs": [
    {
     "name": "stdout",
     "output_type": "stream",
     "text": [
      "26\n"
     ]
    }
   ],
   "source": [
    "def my_function(a, b, /, *, c, d):\n",
    "  print(a + b + c + d)\n",
    "\n",
    "my_function(5, 6, c = 7, d = 8) "
   ]
  }
 ],
 "metadata": {
  "kernelspec": {
   "display_name": "Python 3 (ipykernel)",
   "language": "python",
   "name": "python3"
  },
  "language_info": {
   "codemirror_mode": {
    "name": "ipython",
    "version": 3
   },
   "file_extension": ".py",
   "mimetype": "text/x-python",
   "name": "python",
   "nbconvert_exporter": "python",
   "pygments_lexer": "ipython3",
   "version": "3.11.2"
  }
 },
 "nbformat": 4,
 "nbformat_minor": 5
}
