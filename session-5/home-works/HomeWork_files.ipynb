{
 "cells": [
  {
   "cell_type": "markdown",
   "id": "242e2734-5a87-476a-b229-cb85194980a8",
   "metadata": {},
   "source": [
    "# Homework: Files and Directories Manipulation:"
   ]
  },
  {
   "cell_type": "markdown",
   "id": "3b76d880",
   "metadata": {},
   "source": [
    "# Execice-1: Create the following files hierarchy\n",
    "\n",
    "![](./graph.png)"
   ]
  },
  {
   "cell_type": "code",
   "execution_count": 1,
   "id": "da0cf25c",
   "metadata": {},
   "outputs": [
    {
     "data": {
      "text/plain": [
       "PosixPath('/home/hambz/Desktop/python/python_folder_saturday/session-5/home-works')"
      ]
     },
     "execution_count": 1,
     "metadata": {},
     "output_type": "execute_result"
    }
   ],
   "source": [
    "from pathlib import Path\n",
    "import os\n",
    "\n",
    "\n",
    "Path.cwd()"
   ]
  },
  {
   "cell_type": "code",
   "execution_count": 2,
   "id": "7ceb3b69",
   "metadata": {},
   "outputs": [
    {
     "data": {
      "text/plain": [
       "['dictionary_functions.ipynb', 'HomeWork_files.ipynb', 'graph.png']"
      ]
     },
     "execution_count": 2,
     "metadata": {},
     "output_type": "execute_result"
    }
   ],
   "source": [
    "os.listdir()"
   ]
  },
  {
   "cell_type": "markdown",
   "id": "6cb69094",
   "metadata": {},
   "source": [
    "# Exercise-2: Move into all these directories, using os.chdir()."
   ]
  },
  {
   "cell_type": "code",
   "execution_count": 3,
   "id": "615a2e83",
   "metadata": {},
   "outputs": [],
   "source": [
    "os.mkdir(\"A\")"
   ]
  },
  {
   "cell_type": "code",
   "execution_count": 4,
   "id": "bd8c19b6",
   "metadata": {},
   "outputs": [],
   "source": [
    "# Option-1\n",
    "# os.mkdir(Path(\"./A/B\"))\n",
    "\n",
    "# Option-2\n",
    "os.chdir(\"A\")\n",
    "os.mkdir(\"B\")\n",
    "os.mkdir(\"C\")"
   ]
  },
  {
   "cell_type": "code",
   "execution_count": 5,
   "id": "be7313c5",
   "metadata": {},
   "outputs": [],
   "source": [
    "os.chdir(\"B\")\n",
    "os.mkdir(\"D\")\n",
    "os.mkdir(\"E\")"
   ]
  },
  {
   "cell_type": "code",
   "execution_count": 6,
   "id": "d17adf8f",
   "metadata": {},
   "outputs": [],
   "source": [
    "os.chdir(\"E\")\n",
    "os.mkdir(\"G\")"
   ]
  },
  {
   "cell_type": "code",
   "execution_count": 7,
   "id": "b315c9cc",
   "metadata": {},
   "outputs": [],
   "source": [
    "os.chdir(\"../../C\")"
   ]
  },
  {
   "cell_type": "code",
   "execution_count": 8,
   "id": "1318a564",
   "metadata": {},
   "outputs": [
    {
     "data": {
      "text/plain": [
       "PosixPath('/home/hambz/Desktop/python/python_folder_saturday/session-5/home-works/A/C')"
      ]
     },
     "execution_count": 8,
     "metadata": {},
     "output_type": "execute_result"
    }
   ],
   "source": [
    "Path.cwd()"
   ]
  },
  {
   "cell_type": "code",
   "execution_count": 9,
   "id": "bd7a7a32",
   "metadata": {},
   "outputs": [],
   "source": [
    "os.mkdir(\"F\")\n",
    "os.chdir(\"..\")"
   ]
  }
 ],
 "metadata": {
  "kernelspec": {
   "display_name": "Python 3 (ipykernel)",
   "language": "python",
   "name": "python3"
  },
  "language_info": {
   "codemirror_mode": {
    "name": "ipython",
    "version": 3
   },
   "file_extension": ".py",
   "mimetype": "text/x-python",
   "name": "python",
   "nbconvert_exporter": "python",
   "pygments_lexer": "ipython3",
   "version": "3.11.2"
  }
 },
 "nbformat": 4,
 "nbformat_minor": 5
}
