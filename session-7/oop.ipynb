{
 "cells": [
  {
   "cell_type": "markdown",
   "id": "d46795a4-f928-4154-8102-b3fa3b559ca2",
   "metadata": {},
   "source": [
    "# Basic Syntax:"
   ]
  },
  {
   "cell_type": "code",
   "execution_count": 18,
   "id": "cd32ff86-5316-42b7-bddc-652ee95b5bc6",
   "metadata": {},
   "outputs": [],
   "source": [
    "class TodoList:\n",
    "    # static fields (class attribute)\n",
    "    co = 0\n",
    "    # Constructure\n",
    "    def __init__(self):\n",
    "        # attribute\n",
    "        self.DB = {}\n",
    "\n",
    "    # Method (Function)\n",
    "    def PrintTasks(self):\n",
    "        for item in self.DB:\n",
    "            print(item)"
   ]
  },
  {
   "cell_type": "code",
   "execution_count": 16,
   "id": "6c76a9bf-b814-4187-b5ed-36ddc5eb3012",
   "metadata": {},
   "outputs": [
    {
     "data": {
      "text/plain": [
       "{}"
      ]
     },
     "execution_count": 16,
     "metadata": {},
     "output_type": "execute_result"
    }
   ],
   "source": [
    "instance  = TodoList()\n",
    "instance2 = TodoList()\n",
    "\n",
    "instance.DB[\"key\"] = \"value\"\n",
    "# instance2.DB"
   ]
  },
  {
   "cell_type": "code",
   "execution_count": 17,
   "id": "138f8817",
   "metadata": {},
   "outputs": [
    {
     "name": "stdout",
     "output_type": "stream",
     "text": [
      "{'key': 'value'}\n",
      "{}\n"
     ]
    }
   ],
   "source": [
    "print(instance.DB)\n",
    "print(instance2.DB)"
   ]
  },
  {
   "cell_type": "markdown",
   "id": "20970942-1bf9-470a-8f47-d1f5cc83f955",
   "metadata": {},
   "source": [
    "### attributes"
   ]
  },
  {
   "cell_type": "code",
   "execution_count": 7,
   "id": "20f515df-8ba9-4df3-9e93-364e783ff37e",
   "metadata": {},
   "outputs": [],
   "source": [
    "instance.name = \"hamza\""
   ]
  },
  {
   "cell_type": "code",
   "execution_count": 8,
   "id": "16bd085f-dd96-4530-ab64-578222a2490c",
   "metadata": {},
   "outputs": [
    {
     "name": "stdout",
     "output_type": "stream",
     "text": [
      "hamza\n"
     ]
    }
   ],
   "source": [
    "print (instance.name)"
   ]
  },
  {
   "cell_type": "code",
   "execution_count": null,
   "id": "9dbd0a97-1cef-4b67-97b7-ab1a4159b944",
   "metadata": {},
   "outputs": [],
   "source": []
  },
  {
   "cell_type": "markdown",
   "id": "884b7ad0-17eb-4606-8705-3a963ea55320",
   "metadata": {},
   "source": [
    "### functions:"
   ]
  },
  {
   "cell_type": "code",
   "execution_count": 20,
   "id": "53bc4257-5ec8-46da-a52f-10d755f81783",
   "metadata": {},
   "outputs": [],
   "source": []
  },
  {
   "cell_type": "code",
   "execution_count": 21,
   "id": "dc991cd2-5daa-4729-9717-71b94dee0c4d",
   "metadata": {},
   "outputs": [],
   "source": []
  },
  {
   "cell_type": "code",
   "execution_count": null,
   "id": "e120ef5b-de57-4d15-b994-3d267d367885",
   "metadata": {},
   "outputs": [],
   "source": []
  },
  {
   "cell_type": "markdown",
   "id": "a92e499e-99c2-47e4-993e-150748e7ac03",
   "metadata": {},
   "source": [
    "## Constructor:"
   ]
  },
  {
   "cell_type": "code",
   "execution_count": 24,
   "id": "0345a5a0-e2f7-4d3c-b0df-ae361fbee9b2",
   "metadata": {},
   "outputs": [],
   "source": []
  },
  {
   "cell_type": "code",
   "execution_count": 25,
   "id": "badd7bd3-b63f-441c-aed2-be01b40056ee",
   "metadata": {},
   "outputs": [],
   "source": []
  },
  {
   "cell_type": "code",
   "execution_count": 28,
   "id": "fd2ace0e-db1e-4e7a-8e9c-66eadaf97854",
   "metadata": {},
   "outputs": [],
   "source": []
  },
  {
   "cell_type": "markdown",
   "id": "cce10152-a120-4ef1-ade9-589a1d41b04c",
   "metadata": {},
   "source": [
    "## Methods:"
   ]
  },
  {
   "cell_type": "code",
   "execution_count": 32,
   "id": "b3be7226-eafb-41c5-91ec-90b05899e994",
   "metadata": {},
   "outputs": [],
   "source": []
  },
  {
   "cell_type": "code",
   "execution_count": null,
   "id": "5c20d848-aa4d-44da-8f3d-06b91b9ba3c3",
   "metadata": {},
   "outputs": [],
   "source": []
  },
  {
   "cell_type": "markdown",
   "id": "06ba5942-8cf5-4cbb-b55d-32ab1bf2997a",
   "metadata": {},
   "source": [
    "## Exercice-1\n",
    "\n",
    "* Create a Dog class with attributes name and age, and a bark method that displays \"Woof!\". Create an object of this class and call its bark method.\n",
    "\n",
    "\n",
    "* Créez une classe Chien avec des attributs nom et âge, et une méthode aboyer qui affiche \"Woof!\". Créez un objet de cette classe et appelez sa méthode aboyer.\n"
   ]
  },
  {
   "cell_type": "code",
   "execution_count": 23,
   "id": "9cf2da8b-0d1d-4eca-952c-1daae25e1812",
   "metadata": {},
   "outputs": [],
   "source": [
    "class Dog:\n",
    "    def __init__(self, name: str, age: int):\n",
    "        self.name = name\n",
    "        self.age  = age\n",
    "\n",
    "    def bark(self):\n",
    "        print(f\"{self.name}Woof!!\")"
   ]
  },
  {
   "cell_type": "code",
   "execution_count": 24,
   "id": "95443326",
   "metadata": {},
   "outputs": [
    {
     "name": "stdout",
     "output_type": "stream",
     "text": [
      "Woof!!\n"
     ]
    }
   ],
   "source": [
    "obj = Dog(\"Max\", 13)\n",
    "obj.bark()\n"
   ]
  },
  {
   "cell_type": "markdown",
   "id": "c03a90cd-28c2-4ef6-81a0-4d669493f189",
   "metadata": {},
   "source": [
    "# Inheritance"
   ]
  },
  {
   "cell_type": "code",
   "execution_count": 6,
   "id": "5350bb72-0c0c-47b3-a740-1f0f33f16153",
   "metadata": {},
   "outputs": [],
   "source": []
  },
  {
   "cell_type": "code",
   "execution_count": 11,
   "id": "d8af71bd-e71e-4adf-b6ec-a36dd512f0f6",
   "metadata": {},
   "outputs": [],
   "source": []
  },
  {
   "cell_type": "code",
   "execution_count": 12,
   "id": "00e13e25-b1f3-40c9-a7d9-138f13e2efc8",
   "metadata": {},
   "outputs": [],
   "source": []
  },
  {
   "cell_type": "code",
   "execution_count": null,
   "id": "eef1c014-62d2-4258-8f67-8a1da1b20ecf",
   "metadata": {},
   "outputs": [],
   "source": []
  },
  {
   "cell_type": "code",
   "execution_count": null,
   "id": "7d5c6073-0bf0-4ed2-b720-af55a9691e1e",
   "metadata": {},
   "outputs": [],
   "source": []
  },
  {
   "cell_type": "markdown",
   "id": "f22d925d-eb91-48ad-8d9e-89f064b288ff",
   "metadata": {},
   "source": [
    "## Exercice-2"
   ]
  },
  {
   "cell_type": "markdown",
   "id": "110c92cd-4486-4ab9-ad22-1b5f35559a42",
   "metadata": {},
   "source": [
    "* Create an Animal class with a name attribute and a speak method. Create a Cat class that inherits from Animal and implements the speak method to display \"Meow\". Create an object of the Cat class and call its speak method.\n",
    "\n",
    "* Créez une classe Animal avec un attribut nom et une méthode parler. Créez une classe Chat qui hérite de Animal et implémente la méthode parler pour afficher \"Miaou\". Créez un objet de la classe Chat et appelez sa méthode parler.\n"
   ]
  },
  {
   "cell_type": "code",
   "execution_count": null,
   "id": "30089748-03d6-49f6-a6d6-39426bb6f366",
   "metadata": {},
   "outputs": [],
   "source": []
  },
  {
   "cell_type": "markdown",
   "id": "3a62ea5d-360f-44a9-81f2-02b93bb5a6ca",
   "metadata": {},
   "source": [
    "# Lets build:"
   ]
  },
  {
   "cell_type": "markdown",
   "id": "4426def1-67a5-4f0d-bea1-c4a0f4b789a5",
   "metadata": {},
   "source": [
    "### 1. create a class named, SpecialList"
   ]
  },
  {
   "cell_type": "code",
   "execution_count": null,
   "id": "24d88fd1-8238-429a-86eb-d46757c12804",
   "metadata": {},
   "outputs": [],
   "source": [
    "class SpecailList:\n",
    "    pass"
   ]
  },
  {
   "cell_type": "markdown",
   "id": "483202fb-8cf9-4174-b60d-b0edaef8f544",
   "metadata": {},
   "source": [
    "### 2. added a propriety named my_list "
   ]
  },
  {
   "cell_type": "code",
   "execution_count": null,
   "id": "66291bf3-bdf8-4c2d-abb2-a48191e2fc06",
   "metadata": {},
   "outputs": [],
   "source": [
    "class SpecialList: \n",
    "    def __init__(self) -> None:\n",
    "        self.my_list = []"
   ]
  },
  {
   "cell_type": "markdown",
   "id": "a4fcc7e9",
   "metadata": {},
   "source": [
    "\n",
    "### * create Add() method thats an element to the begining of my_list"
   ]
  },
  {
   "cell_type": "code",
   "execution_count": null,
   "id": "73a27f57",
   "metadata": {},
   "outputs": [],
   "source": [
    "class SpecialList: \n",
    "    def __init__(self) -> None:\n",
    "        self.my_list = []\n",
    "\n",
    "    def Add(self, item):\n",
    "        self.my_list.insert(0, item)"
   ]
  },
  {
   "cell_type": "markdown",
   "id": "11b36191",
   "metadata": {},
   "source": [
    "\n",
    "### * create find() method thats checks if an elements exists in the list."
   ]
  },
  {
   "cell_type": "code",
   "execution_count": null,
   "id": "07a641b5",
   "metadata": {},
   "outputs": [],
   "source": [
    "class SpecialList: \n",
    "    def __init__(self) -> None:\n",
    "        self.my_list = []\n",
    "\n",
    "    def Add(self, item):\n",
    "        self.my_list.insert(0, item)\n",
    "\n",
    "    def Find(self, item):\n",
    "        if item in self.my_list:\n",
    "            return True\n",
    "        return False\n",
    "    "
   ]
  },
  {
   "cell_type": "markdown",
   "id": "2036a83d",
   "metadata": {},
   "source": [
    "\n",
    "### * create Access() a method that return the first item of the list."
   ]
  },
  {
   "cell_type": "code",
   "execution_count": 29,
   "id": "303ee6d7",
   "metadata": {},
   "outputs": [],
   "source": [
    "class SpecialList: \n",
    "    def __init__(self):\n",
    "        self.my_list = []\n",
    "\n",
    "    def Add(self, item):\n",
    "        self.my_list.insert(0, item)\n",
    "\n",
    "    def Find(self, item):\n",
    "        if item in self.my_list:\n",
    "            return True\n",
    "        return False\n",
    "    \n",
    "    def Access(self):\n",
    "        if self.my_list == []:\n",
    "            return \n",
    "        return self.my_list[0]\n",
    "\n",
    "x = SpecialList()\n",
    "x.Access()\n",
    "    "
   ]
  },
  {
   "cell_type": "markdown",
   "id": "1e9dfe22-019e-4ff8-81eb-bce9e2c8769f",
   "metadata": {},
   "source": [
    "### 3. create a method named max() "
   ]
  },
  {
   "cell_type": "code",
   "execution_count": null,
   "id": "9a0e6af5-4d7b-4037-8c4f-350a0fef1151",
   "metadata": {},
   "outputs": [],
   "source": [
    "class SpecialList: \n",
    "    def __init__(self):\n",
    "        self.my_list = []\n",
    "\n",
    "    def Add(self, item):\n",
    "        self.my_list.insert(0, item)\n",
    "\n",
    "    def Find(self, item):\n",
    "        if item in self.my_list:\n",
    "            return True\n",
    "        return False\n",
    "    \n",
    "    def Access(self):\n",
    "        if self.my_list == []:\n",
    "            return \n",
    "        return self.my_list[0]\n",
    "\n",
    "x = SpecialList()\n",
    "x.Access()"
   ]
  },
  {
   "cell_type": "markdown",
   "id": "8e09ac37-a3f4-43c9-8bb4-fed384e541dd",
   "metadata": {},
   "source": [
    "### 4. create a method named min() "
   ]
  },
  {
   "cell_type": "code",
   "execution_count": null,
   "id": "7471d2c1-e37e-4cda-b34c-a14034f61498",
   "metadata": {},
   "outputs": [],
   "source": []
  },
  {
   "cell_type": "markdown",
   "id": "4703a14b-221f-41bc-9e15-92c2ef0071f2",
   "metadata": {},
   "source": [
    "### 5. create a method named reverse() "
   ]
  },
  {
   "cell_type": "code",
   "execution_count": null,
   "id": "a2ac75a3-8ecb-4350-a435-6239f38564e2",
   "metadata": {},
   "outputs": [],
   "source": []
  },
  {
   "cell_type": "markdown",
   "id": "45b4130f-f93e-48d7-8b66-389128e44d1e",
   "metadata": {},
   "source": [
    "### 6. create a method named sort_b() "
   ]
  },
  {
   "cell_type": "code",
   "execution_count": null,
   "id": "8033487d-7aca-4987-8a41-e30e64968bca",
   "metadata": {},
   "outputs": [],
   "source": []
  },
  {
   "cell_type": "markdown",
   "id": "7b265f26-31f4-4c9b-b81a-383bb5988dac",
   "metadata": {},
   "source": [
    "### 7. create a method named sort_s() "
   ]
  },
  {
   "cell_type": "code",
   "execution_count": null,
   "id": "cbbca1d7-9ceb-42b3-bd12-cb0c37e757b1",
   "metadata": {},
   "outputs": [],
   "source": []
  }
 ],
 "metadata": {
  "kernelspec": {
   "display_name": "Python 3 (ipykernel)",
   "language": "python",
   "name": "python3"
  },
  "language_info": {
   "codemirror_mode": {
    "name": "ipython",
    "version": 3
   },
   "file_extension": ".py",
   "mimetype": "text/x-python",
   "name": "python",
   "nbconvert_exporter": "python",
   "pygments_lexer": "ipython3",
   "version": "3.11.2"
  }
 },
 "nbformat": 4,
 "nbformat_minor": 5
}
