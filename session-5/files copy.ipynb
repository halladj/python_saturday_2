{
 "cells": [
  {
   "cell_type": "markdown",
   "id": "70772039-0ab1-4b9f-aad8-1e77753a0a17",
   "metadata": {},
   "source": [
    "# Path:"
   ]
  },
  {
   "cell_type": "code",
   "execution_count": 7,
   "id": "2780f0b3-a9c5-4b61-9226-63cb82b8bd8b",
   "metadata": {},
   "outputs": [],
   "source": [
    "from pathlib import Path\n",
    "\n",
    "p1 = Path(\"C:\", \"Desktop\", \"python\")"
   ]
  },
  {
   "cell_type": "code",
   "execution_count": 8,
   "id": "4ca081b4-b810-460f-9f71-59f82f2f8be7",
   "metadata": {},
   "outputs": [],
   "source": [
    "p2 = Path(\"session-5\",\"files\")"
   ]
  },
  {
   "cell_type": "code",
   "execution_count": 9,
   "id": "6a4e9b3a-d305-4567-8015-f50ea85268dc",
   "metadata": {},
   "outputs": [
    {
     "data": {
      "text/plain": [
       "PosixPath('C:/Desktop/python/session-5/files')"
      ]
     },
     "execution_count": 9,
     "metadata": {},
     "output_type": "execute_result"
    }
   ],
   "source": [
    "p1 / p2"
   ]
  },
  {
   "cell_type": "code",
   "execution_count": 12,
   "id": "26c10f69",
   "metadata": {},
   "outputs": [
    {
     "data": {
      "text/plain": [
       "PosixPath('C:/Desktop/python/session-5/files')"
      ]
     },
     "execution_count": 12,
     "metadata": {},
     "output_type": "execute_result"
    }
   ],
   "source": [
    "Path(p1,p2)"
   ]
  },
  {
   "cell_type": "code",
   "execution_count": null,
   "id": "c46b04f8",
   "metadata": {},
   "outputs": [],
   "source": []
  },
  {
   "cell_type": "markdown",
   "id": "70c64699-1c30-4e55-bbae-3a3112468495",
   "metadata": {},
   "source": [
    "### concatenate **Path** instances."
   ]
  },
  {
   "cell_type": "code",
   "execution_count": null,
   "id": "28078566-013e-468e-b467-b9015af9a713",
   "metadata": {},
   "outputs": [],
   "source": []
  },
  {
   "cell_type": "code",
   "execution_count": 6,
   "id": "3eba33d5-5b5e-4160-9cfc-26623bf174ab",
   "metadata": {},
   "outputs": [],
   "source": []
  },
  {
   "cell_type": "markdown",
   "id": "ebfc7c62-97f9-4bbc-843e-924d33698025",
   "metadata": {},
   "source": [
    "### instead of using this pattern, use Path() and /, as it finds ur os and picks the right one / or \\"
   ]
  },
  {
   "cell_type": "code",
   "execution_count": null,
   "id": "cac4e830-d994-4f82-b51a-e3ddcf24ace1",
   "metadata": {},
   "outputs": [],
   "source": []
  },
  {
   "cell_type": "markdown",
   "id": "a2635822-0fda-4a07-86df-e9cc4514f83c",
   "metadata": {},
   "source": [
    "## Current Working Dir:"
   ]
  },
  {
   "cell_type": "code",
   "execution_count": 13,
   "id": "72f3ccb5-2e1d-4ac8-b7d7-b3ca8ee0ff52",
   "metadata": {},
   "outputs": [
    {
     "data": {
      "text/plain": [
       "PosixPath('/home/hambz/Desktop/python/python-course-friday/session-4')"
      ]
     },
     "execution_count": 13,
     "metadata": {},
     "output_type": "execute_result"
    }
   ],
   "source": [
    "Path.cwd()"
   ]
  },
  {
   "cell_type": "code",
   "execution_count": 15,
   "id": "2a57854d-88b4-4b06-a1ee-23d2e3e46357",
   "metadata": {},
   "outputs": [],
   "source": [
    "import os\n",
    "\n",
    "os.chdir(Path(\"/home/hambz\"))"
   ]
  },
  {
   "cell_type": "code",
   "execution_count": 16,
   "id": "35715203",
   "metadata": {},
   "outputs": [
    {
     "data": {
      "text/plain": [
       "PosixPath('/home/hambz')"
      ]
     },
     "execution_count": 16,
     "metadata": {},
     "output_type": "execute_result"
    }
   ],
   "source": [
    "Path.cwd()"
   ]
  },
  {
   "cell_type": "markdown",
   "id": "515a8f73-6caf-4c0c-b487-3db15b146e91",
   "metadata": {},
   "source": [
    "## Home Directory:"
   ]
  },
  {
   "cell_type": "code",
   "execution_count": 17,
   "id": "7442c7e5-65ab-44ab-bc11-567cced3ce82",
   "metadata": {},
   "outputs": [
    {
     "data": {
      "text/plain": [
       "PosixPath('/home/hambz')"
      ]
     },
     "execution_count": 17,
     "metadata": {},
     "output_type": "execute_result"
    }
   ],
   "source": [
    "Path.home()"
   ]
  },
  {
   "cell_type": "markdown",
   "id": "f9decdf5-1a78-4715-a6b1-abd20e4999c5",
   "metadata": {},
   "source": [
    "## Creating New Folders using os.makedirs()"
   ]
  },
  {
   "cell_type": "code",
   "execution_count": 18,
   "id": "f53a12db-7a99-44ed-b257-aca557e0099c",
   "metadata": {},
   "outputs": [],
   "source": [
    "os.makedirs(Path(Path.home(), \"test-test\"))"
   ]
  },
  {
   "cell_type": "code",
   "execution_count": 20,
   "id": "0e2c4e25-f7b0-45e6-afd3-4f9a8a4936a3",
   "metadata": {},
   "outputs": [
    {
     "name": "stdout",
     "output_type": "stream",
     "text": [
      "It exists\n"
     ]
    }
   ],
   "source": [
    "if \"test-test\" in os.listdir(Path.home()):\n",
    "    print(\"It exists\")\n",
    "else:\n",
    "    print(\"it does not exit\")"
   ]
  },
  {
   "cell_type": "code",
   "execution_count": 24,
   "id": "d1d6d0f6-74e8-4c46-8c05-8f83cac24a69",
   "metadata": {},
   "outputs": [
    {
     "data": {
      "text/plain": [
       "True"
      ]
     },
     "execution_count": 24,
     "metadata": {},
     "output_type": "execute_result"
    }
   ],
   "source": [
    "Path(Path.cwd(), \"test-test\").exists()"
   ]
  },
  {
   "cell_type": "code",
   "execution_count": 25,
   "id": "77ca8141-0b9a-44ea-bc68-c15b28a8fdd1",
   "metadata": {},
   "outputs": [],
   "source": [
    "os.rmdir(Path( Path.home(), \"test-test\" ))"
   ]
  },
  {
   "cell_type": "code",
   "execution_count": 26,
   "id": "4a9b2498",
   "metadata": {},
   "outputs": [
    {
     "data": {
      "text/plain": [
       "False"
      ]
     },
     "execution_count": 26,
     "metadata": {},
     "output_type": "execute_result"
    }
   ],
   "source": [
    "\n",
    "Path(Path.cwd(), \"test-test\").exists()"
   ]
  },
  {
   "cell_type": "markdown",
   "id": "b9ec537d-ba64-4b4f-9dfb-895db305c07a",
   "metadata": {},
   "source": [
    "### To make a directory from a Path object, call the mkdir() method"
   ]
  },
  {
   "cell_type": "code",
   "execution_count": 27,
   "id": "5026813d-0a30-489b-a68b-4e9efce64c1f",
   "metadata": {},
   "outputs": [
    {
     "data": {
      "text/plain": [
       "['go',\n",
       " '.omnisharp',\n",
       " '.node_repl_history',\n",
       " '.gitconfig',\n",
       " '.bash_logout',\n",
       " '.profile',\n",
       " '.vscode',\n",
       " 'conpuse.md',\n",
       " '.redhat',\n",
       " '.alacritty.yml',\n",
       " 'Downloads',\n",
       " 'Public',\n",
       " '.cache',\n",
       " '.face.icon',\n",
       " '.config',\n",
       " '.gphoto',\n",
       " '.viminfo',\n",
       " 'Documents',\n",
       " '.gnupg',\n",
       " '.ServiceHub',\n",
       " '__pycache__',\n",
       " 'Pictures',\n",
       " 'wifi-code.md',\n",
       " '.jupyter',\n",
       " '.python_history',\n",
       " '.bash_history',\n",
       " 'Templates',\n",
       " '.wget-hsts',\n",
       " '.xsnowrc',\n",
       " '.nuget',\n",
       " '.session-3.autosave.xopp',\n",
       " '.lesshst',\n",
       " 'Music',\n",
       " '.ssh',\n",
       " '.cabal',\n",
       " 'dotfiles',\n",
       " '.yarn',\n",
       " '.npm',\n",
       " 'install.sh',\n",
       " '.ghcup',\n",
       " 'Uni',\n",
       " 'projects',\n",
       " '.dotnet',\n",
       " 'Videos',\n",
       " '.bashrc_old',\n",
       " '.mozilla',\n",
       " '.m2',\n",
       " '.xmonad',\n",
       " '.templateengine',\n",
       " '.ipython',\n",
       " '.stack',\n",
       " 'debug.log',\n",
       " '.pki',\n",
       " '.java',\n",
       " '.yarnrc',\n",
       " '.jukit',\n",
       " '.local',\n",
       " 'git.mp4',\n",
       " 'ai-workshop',\n",
       " '.tmux.conf',\n",
       " 'c#',\n",
       " '.face',\n",
       " 'Desktop',\n",
       " '.ipynb_checkpoints',\n",
       " '.vim',\n",
       " '.bashrc']"
      ]
     },
     "execution_count": 27,
     "metadata": {},
     "output_type": "execute_result"
    }
   ],
   "source": [
    "os.listdir()"
   ]
  },
  {
   "cell_type": "code",
   "execution_count": 28,
   "id": "020b1c6f",
   "metadata": {},
   "outputs": [],
   "source": [
    "os.makedirs(Path( Path.home(), \"A\"))"
   ]
  },
  {
   "cell_type": "code",
   "execution_count": 29,
   "id": "1b13f743",
   "metadata": {},
   "outputs": [],
   "source": [
    "p = Path( Path.home(), \"A\")"
   ]
  },
  {
   "cell_type": "code",
   "execution_count": 31,
   "id": "b9d459f9",
   "metadata": {},
   "outputs": [],
   "source": [
    "if p.exists():\n",
    "    os.makedirs(Path(p, \"B\"))"
   ]
  },
  {
   "cell_type": "code",
   "execution_count": 32,
   "id": "ee7bc0db",
   "metadata": {},
   "outputs": [],
   "source": [
    "os.chdir(Path(p, \"B\"))"
   ]
  },
  {
   "cell_type": "code",
   "execution_count": 33,
   "id": "ec7a0beb",
   "metadata": {},
   "outputs": [
    {
     "data": {
      "text/plain": [
       "PosixPath('/home/hambz/A/B')"
      ]
     },
     "execution_count": 33,
     "metadata": {},
     "output_type": "execute_result"
    }
   ],
   "source": [
    "Path.cwd()"
   ]
  },
  {
   "cell_type": "code",
   "execution_count": 34,
   "id": "bbb2872b",
   "metadata": {},
   "outputs": [
    {
     "data": {
      "text/plain": [
       "[]"
      ]
     },
     "execution_count": 34,
     "metadata": {},
     "output_type": "execute_result"
    }
   ],
   "source": [
    "os.listdir()"
   ]
  },
  {
   "cell_type": "code",
   "execution_count": null,
   "id": "57c7b32f",
   "metadata": {},
   "outputs": [],
   "source": [
    "os.chdir(\"../\")"
   ]
  },
  {
   "cell_type": "code",
   "execution_count": null,
   "id": "963182a6",
   "metadata": {},
   "outputs": [],
   "source": []
  },
  {
   "cell_type": "code",
   "execution_count": null,
   "id": "62c1fc38",
   "metadata": {},
   "outputs": [],
   "source": []
  },
  {
   "cell_type": "markdown",
   "id": "16f63bdd-2f81-4cfe-ac42-d69006f33597",
   "metadata": {},
   "source": [
    "## Handling Absolute and Relative Paths:"
   ]
  },
  {
   "cell_type": "code",
   "execution_count": null,
   "id": "8c6ccebc-8398-4440-82fc-c73eb24897e1",
   "metadata": {},
   "outputs": [],
   "source": []
  },
  {
   "cell_type": "code",
   "execution_count": null,
   "id": "2c1c7882-50e8-427d-b770-2fe9dcf7aa43",
   "metadata": {},
   "outputs": [],
   "source": []
  },
  {
   "cell_type": "code",
   "execution_count": null,
   "id": "b2b070b5-a41e-4d22-b380-ad03f42c98e7",
   "metadata": {},
   "outputs": [],
   "source": []
  },
  {
   "cell_type": "markdown",
   "id": "6286a5dd-dc68-4328-b7db-e21af45f39bf",
   "metadata": {},
   "source": [
    "**Calling os.path.abspath(path) will return a string of the absolute path\n",
    "of the argument.**"
   ]
  },
  {
   "cell_type": "code",
   "execution_count": null,
   "id": "25469bc7-9ab6-4fff-b6f6-05ad144c2004",
   "metadata": {},
   "outputs": [],
   "source": []
  },
  {
   "cell_type": "markdown",
   "id": "c685ef4f-941f-4e43-8d67-975e2f56587c",
   "metadata": {},
   "source": [
    "## Finding File Sizes and Folder Contents:"
   ]
  },
  {
   "cell_type": "code",
   "execution_count": null,
   "id": "2957078e-1d1c-43c9-8cb9-9f9bbd285e8e",
   "metadata": {},
   "outputs": [],
   "source": []
  },
  {
   "cell_type": "code",
   "execution_count": null,
   "id": "abd5d0c0-ad27-4cb3-b949-fd10fe7b88cb",
   "metadata": {},
   "outputs": [],
   "source": []
  },
  {
   "cell_type": "code",
   "execution_count": null,
   "id": "353cec2b-d87b-464f-a076-09612b27062e",
   "metadata": {},
   "outputs": [],
   "source": []
  },
  {
   "cell_type": "markdown",
   "id": "253bb972-062c-47b4-9ef3-94b943703c10",
   "metadata": {},
   "source": [
    "## The File Reading/Writing Process:"
   ]
  },
  {
   "cell_type": "markdown",
   "id": "ad3daa85-9028-44b4-b61e-6d1296005acf",
   "metadata": {},
   "source": [
    "### Opening Files with the open() Function:"
   ]
  },
  {
   "cell_type": "code",
   "execution_count": 75,
   "id": "ac666e36-08bf-4e74-a2c7-d3c510ac1e7e",
   "metadata": {},
   "outputs": [],
   "source": [
    "import os\n",
    "file = open(\"test\",\"a+\")\n",
    "\n",
    "file.writelines([\"heyllll\"])\n",
    "file.seek(0)\n",
    "file.readlines()"
   ]
  },
  {
   "cell_type": "code",
   "execution_count": null,
   "id": "4af9c266",
   "metadata": {},
   "outputs": [],
   "source": [
    "file_name = \"test\"\n",
    "with open(file_name, \"a\") as file:\n",
    "    file.write(\"Adding another line.\\n\")\n",
    "\n",
    "# Reading again to confirm changes\n",
    "with open(file_name, \"r\") as file:\n",
    "    updated_content = file.read()\n",
    "    print(updated_content)"
   ]
  },
  {
   "cell_type": "markdown",
   "id": "fc938dbf-d181-424b-ad9f-81fa0c2f6943",
   "metadata": {},
   "source": [
    "### Reading the Contents of Files:"
   ]
  },
  {
   "cell_type": "code",
   "execution_count": 76,
   "id": "7a045b99-c845-4be9-9752-8b3155b919fa",
   "metadata": {},
   "outputs": [],
   "source": []
  },
  {
   "cell_type": "code",
   "execution_count": null,
   "id": "9cdd9e14-d65a-4489-a6d9-5cdf74168586",
   "metadata": {},
   "outputs": [],
   "source": []
  },
  {
   "cell_type": "markdown",
   "id": "91c5b8fe-77ec-4ce8-b1b5-7c98f9533a1e",
   "metadata": {},
   "source": [
    "### Writing to Files:"
   ]
  },
  {
   "cell_type": "code",
   "execution_count": 112,
   "id": "6e4aa20f-7273-4cc7-94af-3b50c2d3a1b4",
   "metadata": {},
   "outputs": [],
   "source": []
  },
  {
   "cell_type": "code",
   "execution_count": null,
   "id": "3db77b39-4859-4eee-8d84-d0ab2f56367a",
   "metadata": {},
   "outputs": [],
   "source": []
  },
  {
   "cell_type": "markdown",
   "id": "9fa3eee1-64ea-4463-857d-01e7e4ad53c0",
   "metadata": {},
   "source": [
    "# Exercices-1: Write a program that reads the contents of a file and displays it on the screen."
   ]
  },
  {
   "cell_type": "code",
   "execution_count": null,
   "id": "cbc5c570-546f-46f9-a44b-ea8e0b412fd8",
   "metadata": {},
   "outputs": [],
   "source": []
  },
  {
   "cell_type": "code",
   "execution_count": null,
   "id": "6451fbbc-a5c3-4610-b7f3-267f8a4c5649",
   "metadata": {},
   "outputs": [],
   "source": []
  },
  {
   "cell_type": "code",
   "execution_count": 76,
   "id": "62da8384-0195-432c-aff9-ba3b24a27284",
   "metadata": {},
   "outputs": [],
   "source": []
  },
  {
   "cell_type": "markdown",
   "id": "1788c48d-d237-4681-ba76-70d10d92e5bb",
   "metadata": {},
   "source": [
    "# Exercices-2: Write a program that writes a list of names to a file, then reads and displays the contents of that file."
   ]
  },
  {
   "cell_type": "code",
   "execution_count": null,
   "id": "93bd44eb-6a19-41b0-87a3-3b80fc13b614",
   "metadata": {},
   "outputs": [],
   "source": []
  },
  {
   "cell_type": "markdown",
   "id": "63f1c419-cb13-402a-8cfc-d4b4373d05dd",
   "metadata": {},
   "source": [
    "# Error Handeling:"
   ]
  },
  {
   "cell_type": "code",
   "execution_count": null,
   "id": "562cf16f-d274-4373-8314-4c52ec7bc235",
   "metadata": {},
   "outputs": [],
   "source": []
  },
  {
   "cell_type": "code",
   "execution_count": null,
   "id": "ace01c6e-e84d-40c3-8ccc-ef14ffbd1067",
   "metadata": {},
   "outputs": [],
   "source": []
  },
  {
   "cell_type": "code",
   "execution_count": null,
   "id": "731bd3bf-8bd6-4f99-b19a-a6da1aedb124",
   "metadata": {},
   "outputs": [],
   "source": []
  },
  {
   "cell_type": "code",
   "execution_count": null,
   "id": "2a292ae8-9ae9-4bf1-80fd-bb79e91c9b99",
   "metadata": {},
   "outputs": [],
   "source": []
  }
 ],
 "metadata": {
  "kernelspec": {
   "display_name": "Python 3 (ipykernel)",
   "language": "python",
   "name": "python3"
  },
  "language_info": {
   "codemirror_mode": {
    "name": "ipython",
    "version": 3
   },
   "file_extension": ".py",
   "mimetype": "text/x-python",
   "name": "python",
   "nbconvert_exporter": "python",
   "pygments_lexer": "ipython3",
   "version": "3.11.2"
  }
 },
 "nbformat": 4,
 "nbformat_minor": 5
}
