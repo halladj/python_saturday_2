{
 "cells": [
  {
   "cell_type": "code",
   "execution_count": 1,
   "id": "9b2a0637-7269-429e-aa0c-587dc99ee160",
   "metadata": {},
   "outputs": [
    {
     "data": {
      "text/plain": [
       "PosixPath('/users')"
      ]
     },
     "execution_count": 1,
     "metadata": {},
     "output_type": "execute_result"
    }
   ],
   "source": [
    "from pathlib import Path\n",
    "\n",
    "\n",
    "Path(\"/users\")\n"
   ]
  },
  {
   "cell_type": "code",
   "execution_count": 2,
   "id": "10ab3a91-7629-4d6e-9a7b-2bda037dda75",
   "metadata": {},
   "outputs": [],
   "source": [
    "p=Path.home()\n",
    "p1=Path(\"Python-project\")\n"
   ]
  },
  {
   "cell_type": "code",
   "execution_count": 3,
   "id": "032cbd8f-4041-4532-aded-1a1bb20c3cc6",
   "metadata": {},
   "outputs": [
    {
     "name": "stdout",
     "output_type": "stream",
     "text": [
      "/Users/abdelkarimaidouni/Python-project\n"
     ]
    },
    {
     "data": {
      "text/plain": [
       "PosixPath('/Users/abdelkarimaidouni/python_saturday_2/Aidouni-abdelkarim')"
      ]
     },
     "execution_count": 3,
     "metadata": {},
     "output_type": "execute_result"
    }
   ],
   "source": [
    "print(p / p1)\n",
    "Path.cwd()\n"
   ]
  },
  {
   "cell_type": "code",
   "execution_count": null,
   "id": "cc1bded0-ed2a-4ffc-b3f8-18b0b72f8e3b",
   "metadata": {},
   "outputs": [],
   "source": []
  },
  {
   "cell_type": "code",
   "execution_count": 4,
   "id": "a73fa700-1dc3-44e6-a0ec-0ce1de2f5e29",
   "metadata": {},
   "outputs": [],
   "source": [
    "import os"
   ]
  },
  {
   "cell_type": "code",
   "execution_count": 5,
   "id": "9fe319de-6930-419a-9150-893b212c5ff1",
   "metadata": {},
   "outputs": [],
   "source": [
    "os.chdir(Path.home())"
   ]
  },
  {
   "cell_type": "code",
   "execution_count": 6,
   "id": "9ab72c6a-ae3e-466d-b30c-9a4790b77ddc",
   "metadata": {},
   "outputs": [
    {
     "data": {
      "text/plain": [
       "PosixPath('/Users/abdelkarimaidouni')"
      ]
     },
     "execution_count": 6,
     "metadata": {},
     "output_type": "execute_result"
    }
   ],
   "source": [
    "Path.cwd()"
   ]
  },
  {
   "cell_type": "code",
   "execution_count": 7,
   "id": "efcf14c5-96e1-4281-9d20-ccc026afc688",
   "metadata": {},
   "outputs": [],
   "source": [
    "os.makedirs(\"DIR_NAME\")"
   ]
  },
  {
   "cell_type": "code",
   "execution_count": 8,
   "id": "a2d612b4-f476-4882-a2f7-cb6d66bc0da5",
   "metadata": {},
   "outputs": [
    {
     "ename": "FileExistsError",
     "evalue": "[Errno 17] File exists: 'DIR_NAME'",
     "output_type": "error",
     "traceback": [
      "\u001b[0;31m---------------------------------------------------------------------------\u001b[0m",
      "\u001b[0;31mFileExistsError\u001b[0m                           Traceback (most recent call last)",
      "Cell \u001b[0;32mIn[8], line 1\u001b[0m\n\u001b[0;32m----> 1\u001b[0m \u001b[43mos\u001b[49m\u001b[38;5;241;43m.\u001b[39;49m\u001b[43mmakedirs\u001b[49m\u001b[43m(\u001b[49m\u001b[38;5;124;43m\"\u001b[39;49m\u001b[38;5;124;43mDIR_NAME\u001b[39;49m\u001b[38;5;124;43m\"\u001b[39;49m\u001b[43m)\u001b[49m\n",
      "File \u001b[0;32m<frozen os>:227\u001b[0m, in \u001b[0;36mmakedirs\u001b[0;34m(name, mode, exist_ok)\u001b[0m\n",
      "\u001b[0;31mFileExistsError\u001b[0m: [Errno 17] File exists: 'DIR_NAME'"
     ]
    }
   ],
   "source": [
    "os.makedirs(\"DIR_NAME\")"
   ]
  },
  {
   "cell_type": "code",
   "execution_count": 9,
   "id": "b94e3c8b-b15b-47a7-8238-a01a95679009",
   "metadata": {},
   "outputs": [
    {
     "ename": "AttributeError",
     "evalue": "type object 'Path' has no attribute 'DIR_NAME'",
     "output_type": "error",
     "traceback": [
      "\u001b[0;31m---------------------------------------------------------------------------\u001b[0m",
      "\u001b[0;31mAttributeError\u001b[0m                            Traceback (most recent call last)",
      "Cell \u001b[0;32mIn[9], line 1\u001b[0m\n\u001b[0;32m----> 1\u001b[0m os\u001b[38;5;241m.\u001b[39mchdir(\u001b[43mPath\u001b[49m\u001b[38;5;241;43m.\u001b[39;49m\u001b[43mDIR_NAME\u001b[49m())\n",
      "\u001b[0;31mAttributeError\u001b[0m: type object 'Path' has no attribute 'DIR_NAME'"
     ]
    }
   ],
   "source": [
    "os.chdir(Path.DIR_NAME())"
   ]
  },
  {
   "cell_type": "code",
   "execution_count": 10,
   "id": "27399222-21c4-4d79-a0bf-efff89d7889c",
   "metadata": {},
   "outputs": [],
   "source": [
    "os.rmdir(Path(Path.home(),\"DIR_NAME\"))\n"
   ]
  },
  {
   "cell_type": "code",
   "execution_count": 12,
   "id": "d90e4533-f83a-45bf-9cc9-48c38230521e",
   "metadata": {},
   "outputs": [
    {
     "name": "stdout",
     "output_type": "stream",
     "text": [
      "/Users/abdelkarimaidouni/Python-project\n"
     ]
    }
   ],
   "source": [
    "from pathlib import Path\n",
    "#\n",
    "Path(\"/users\")\n",
    "p=Path.home()\n",
    "p1=Path(\"Python-project\")\n",
    "p2=p/p1\n",
    "print(p2)"
   ]
  },
  {
   "cell_type": "code",
   "execution_count": 14,
   "id": "4426eb63-e738-4a7a-adb0-226103761841",
   "metadata": {},
   "outputs": [],
   "source": [
    "os.makedirs(Path(p2,\"abdelkarimaidouni\",\"dir_a\",\"dir_b\"))"
   ]
  },
  {
   "cell_type": "code",
   "execution_count": 17,
   "id": "c4aa1e9c-c17f-45a9-8904-466ce1092018",
   "metadata": {},
   "outputs": [
    {
     "name": "stdout",
     "output_type": "stream",
     "text": [
      "found it\n"
     ]
    }
   ],
   "source": [
    "for item in os.listdir(Path.home()):\n",
    "    if item==\"Python-project\":\n",
    "        print(\"found it\")"
   ]
  },
  {
   "cell_type": "code",
   "execution_count": null,
   "id": "cef48e5d-c48b-4623-93ff-cd2f4efa6d15",
   "metadata": {},
   "outputs": [],
   "source": []
  }
 ],
 "metadata": {
  "kernelspec": {
   "display_name": "Python 3 (ipykernel)",
   "language": "python",
   "name": "python3"
  },
  "language_info": {
   "codemirror_mode": {
    "name": "ipython",
    "version": 3
   },
   "file_extension": ".py",
   "mimetype": "text/x-python",
   "name": "python",
   "nbconvert_exporter": "python",
   "pygments_lexer": "ipython3",
   "version": "3.13.0"
  }
 },
 "nbformat": 4,
 "nbformat_minor": 5
}
