{
 "cells": [
  {
   "cell_type": "markdown",
   "metadata": {},
   "source": [
    "# Files Reading & Writing"
   ]
  },
  {
   "cell_type": "code",
   "execution_count": null,
   "metadata": {
    "vscode": {
     "languageId": "plaintext"
    }
   },
   "outputs": [],
   "source": []
  },
  {
   "cell_type": "code",
   "execution_count": 52,
   "metadata": {},
   "outputs": [
    {
     "name": "stdout",
     "output_type": "stream",
     "text": [
      "Error: File Already Exists\n"
     ]
    }
   ],
   "source": [
    "try:\n",
    "    with open(\"TEST.txt\", \"x\") as f:\n",
    "        pass\n",
    "except : \n",
    "    print(\"Error: File Already Exists\")\n",
    "    "
   ]
  },
  {
   "cell_type": "code",
   "execution_count": 38,
   "metadata": {},
   "outputs": [],
   "source": [
    "FILE_NAME = \"TEST.txt\"\n",
    "with open(FILE_NAME, \"a\") as f:\n",
    "    f.writelines([\"first-line\\n\", \"second-line\\n\"])"
   ]
  },
  {
   "cell_type": "code",
   "execution_count": 39,
   "metadata": {},
   "outputs": [
    {
     "name": "stdout",
     "output_type": "stream",
     "text": [
      "first-line\n",
      "\n",
      "second-line\n",
      "\n",
      "first-line\n",
      "\n",
      "second-line\n",
      "\n"
     ]
    }
   ],
   "source": [
    "with open(FILE_NAME, \"r\") as f:\n",
    "    for item in f.readlines():\n",
    "        print(item)"
   ]
  },
  {
   "cell_type": "code",
   "execution_count": 40,
   "metadata": {},
   "outputs": [],
   "source": [
    "# { \"task-1\" : {\"task-name\": \"study\", \"priority\": \"high\"} }"
   ]
  },
  {
   "cell_type": "code",
   "execution_count": 41,
   "metadata": {},
   "outputs": [],
   "source": [
    "## TODO: create a funtion that adds one task to our dictionary.\n",
    "DB= {}\n",
    "\n",
    "def add_task(task):\n",
    "    DB[f\"task-{len(DB)}\"] = task"
   ]
  },
  {
   "cell_type": "code",
   "execution_count": 42,
   "metadata": {},
   "outputs": [],
   "source": [
    "def create_task():\n",
    "    taskname     = input(\"Please enter task-name: \")\n",
    "    taskpriority = input(\"Please enter task-priority: \")\n",
    "    \n",
    "    task = {\"task-name\": taskname, \"priority\": taskpriority}\n",
    "    return task\n",
    "\n",
    "def print_tasks():\n",
    "    for k,v in DB.items():\n",
    "        print(f\"{k}: {v}\")"
   ]
  },
  {
   "cell_type": "code",
   "execution_count": 43,
   "metadata": {},
   "outputs": [
    {
     "name": "stdout",
     "output_type": "stream",
     "text": [
      "Please enter task-name pray\n",
      "Please enter task-priority high\n"
     ]
    }
   ],
   "source": [
    "add_task(create_task())"
   ]
  },
  {
   "cell_type": "code",
   "execution_count": 44,
   "metadata": {},
   "outputs": [
    {
     "name": "stdout",
     "output_type": "stream",
     "text": [
      "task-0: {'task-name': 'pray', 'priority': 'high'}\n"
     ]
    }
   ],
   "source": [
    "print_tasks()"
   ]
  },
  {
   "cell_type": "code",
   "execution_count": 45,
   "metadata": {},
   "outputs": [],
   "source": [
    "def delete_task(task_key):\n",
    "    del DB[task_key]"
   ]
  },
  {
   "cell_type": "code",
   "execution_count": 46,
   "metadata": {},
   "outputs": [
    {
     "name": "stdout",
     "output_type": "stream",
     "text": [
      "task-0: {'task-name': 'pray', 'priority': 'high'}\n"
     ]
    }
   ],
   "source": [
    "print_tasks()"
   ]
  },
  {
   "cell_type": "code",
   "execution_count": 49,
   "metadata": {},
   "outputs": [
    {
     "name": "stdout",
     "output_type": "stream",
     "text": [
      " 0\n"
     ]
    },
    {
     "name": "stdout",
     "output_type": "stream",
     "text": [
      "invalid key\n"
     ]
    }
   ],
   "source": [
    "try:\n",
    "    delete_task(input())\n",
    "\n",
    "except:\n",
    "    print(\"invalid key\")"
   ]
  },
  {
   "cell_type": "code",
   "execution_count": 53,
   "metadata": {},
   "outputs": [
    {
     "name": "stdout",
     "output_type": "stream",
     "text": [
      "task-0: {'task-name': 'pray', 'priority': 'high'}\n"
     ]
    }
   ],
   "source": [
    "print_tasks()"
   ]
  },
  {
   "cell_type": "code",
   "execution_count": null,
   "metadata": {},
   "outputs": [
    {
     "name": "stdout",
     "output_type": "stream",
     "text": [
      "PRESS the associated number..\n",
      "(1) Add new-task..\n",
      "(2) print all-tasks..\n",
      "(3) Delete a task..\n",
      "(4) quit the app..\n"
     ]
    },
    {
     "name": "stdout",
     "output_type": "stream",
     "text": [
      " 1\n",
      "Please enter task-name study\n",
      "Please enter task-priority high\n"
     ]
    },
    {
     "name": "stdout",
     "output_type": "stream",
     "text": [
      "PRESS the associated number..\n",
      "(1) Add new-task..\n",
      "(2) print all-tasks..\n",
      "(3) Delete a task..\n",
      "(4) quit the app..\n"
     ]
    },
    {
     "name": "stdout",
     "output_type": "stream",
     "text": [
      " 2\n"
     ]
    },
    {
     "name": "stdout",
     "output_type": "stream",
     "text": [
      "task-0: {'task-name': 'pray', 'priority': 'high'}\n",
      "task-1: {'task-name': 'study', 'priority': 'high'}\n",
      "PRESS the associated number..\n",
      "(1) Add new-task..\n",
      "(2) print all-tasks..\n",
      "(3) Delete a task..\n",
      "(4) quit the app..\n"
     ]
    }
   ],
   "source": [
    "DB= {}\n",
    "\n",
    "def add_task(task):\n",
    "    DB[f\"task-{len(DB)}\"] = task\n",
    "\n",
    "def create_task():\n",
    "    taskname     = input(\"Please enter task-name\")\n",
    "    taskpriority = input(\"Please enter task-priority\")\n",
    "    \n",
    "    task = {\"task-name\": taskname, \"priority\": taskpriority}\n",
    "    return task\n",
    "\n",
    "def print_tasks():\n",
    "    for k,v in DB.items():\n",
    "        print(f\"{k}: {v}\")\n",
    "\n",
    "if __name__ == '__main__':\n",
    "    while True:\n",
    "        option = \"\"\n",
    "        print(\"PRESS the associated number..\")\n",
    "        print(\"(1) Add new-task..\")\n",
    "        print(\"(2) print all-tasks..\")\n",
    "        print(\"(3) Delete a task..\")\n",
    "        print(\"(4) quit the app..\")\n",
    "        option = int(input())\n",
    "        if option == 1:\n",
    "            add_task(create_task())\n",
    "        elif option == 2:\n",
    "            print_tasks()\n",
    "        elif option == 3:\n",
    "            try:\n",
    "                key = input(\"please enter they task-key\")\n",
    "                delete_task(key)\n",
    "            except:\n",
    "                print(\"Invalid key.....\")\n",
    "        elif option == 4:\n",
    "            break;\n",
    "                \n",
    "         "
   ]
  }
 ],
 "metadata": {
  "kernelspec": {
   "display_name": "Python 3 (ipykernel)",
   "language": "python",
   "name": "python3"
  },
  "language_info": {
   "codemirror_mode": {
    "name": "ipython",
    "version": 3
   },
   "file_extension": ".py",
   "mimetype": "text/x-python",
   "name": "python",
   "nbconvert_exporter": "python",
   "pygments_lexer": "ipython3",
   "version": "3.11.2"
  }
 },
 "nbformat": 4,
 "nbformat_minor": 4
}
