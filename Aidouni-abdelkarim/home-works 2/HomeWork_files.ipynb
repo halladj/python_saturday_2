{
 "cells": [
  {
   "cell_type": "markdown",
   "id": "242e2734-5a87-476a-b229-cb85194980a8",
   "metadata": {},
   "source": [
    "# Homework: Files and Directories Manipulation:"
   ]
  },
  {
   "cell_type": "markdown",
   "id": "3b76d880",
   "metadata": {},
   "source": [
    "# Execice-1: Create the following files hierarchy\n",
    "\n",
    "![](./graph.png)"
   ]
  },
  {
   "cell_type": "code",
   "execution_count": 4,
   "id": "da0cf25c",
   "metadata": {},
   "outputs": [
    {
     "data": {
      "text/plain": [
       "PosixPath('/home/hambz/ai-workshop/week-group/python-group/session-5')"
      ]
     },
     "execution_count": 4,
     "metadata": {},
     "output_type": "execute_result"
    }
   ],
   "source": [
    "from pathlib import Path\n",
    "import os\n",
    "\n",
    "\n",
    "Path.cwd()"
   ]
  },
  {
   "cell_type": "code",
   "execution_count": 17,
   "id": "7ceb3b69",
   "metadata": {},
   "outputs": [],
   "source": []
  },
  {
   "cell_type": "markdown",
   "id": "6cb69094",
   "metadata": {},
   "source": [
    "# Exercise-2: Move into all these directories, using os.chdir()."
   ]
  },
  {
   "cell_type": "code",
   "execution_count": null,
   "id": "615a2e83",
   "metadata": {},
   "outputs": [],
   "source": []
  }
 ],
 "metadata": {
  "kernelspec": {
   "display_name": "Python 3 (ipykernel)",
   "language": "python",
   "name": "python3"
  },
  "language_info": {
   "codemirror_mode": {
    "name": "ipython",
    "version": 3
   },
   "file_extension": ".py",
   "mimetype": "text/x-python",
   "name": "python",
   "nbconvert_exporter": "python",
   "pygments_lexer": "ipython3",
   "version": "3.11.2"
  }
 },
 "nbformat": 4,
 "nbformat_minor": 5
}
