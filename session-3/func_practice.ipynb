{
 "cells": [
  {
   "cell_type": "markdown",
   "id": "b6233ecc-f1c0-4f4f-be61-4988a334cc33",
   "metadata": {},
   "source": [
    "# TODO-List Manager"
   ]
  },
  {
   "cell_type": "markdown",
   "id": "c0cf62a1-b961-474e-953d-1ec31003ed0e",
   "metadata": {},
   "source": [
    "### 1. **You will create a simple command-line to-do list application that allows users to add, view, mark as completed, and delete tasks. Tasks will be stored in a dictionary where the keys are task IDs, and the values are the task details.**"
   ]
  },
  {
   "cell_type": "markdown",
   "id": "dda7951e-0e5c-48f5-a05e-7442c6b63c4e",
   "metadata": {},
   "source": [
    "### 2. **Features to Implement:**\n",
    "\n",
    "1. Add a Task: The user can add a task with a description and priority level (e.g., low, medium, high).\n",
    "2. View Tasks: The user can view all tasks, showing task IDs, descriptions, priorities, and completion status.\n",
    "3. Mark a Task as Completed: The user can mark a task as completed by providing the task ID.\n",
    "4. Delete a Task: The user can delete a task by providing the task ID.\n",
    "5. Quit: The user can quit the application."
   ]
  },
  {
   "cell_type": "code",
   "execution_count": 2,
   "id": "17577af8-6640-49d5-b75b-ba1d3477effa",
   "metadata": {},
   "outputs": [],
   "source": [
    "# task = {task_id: 1,name:\"pray\", is_completed:False}"
   ]
  },
  {
   "cell_type": "markdown",
   "id": "b4cd8263-0a31-458a-8cc7-905edd3bec2a",
   "metadata": {},
   "source": [
    "### 3. **Steps:**"
   ]
  },
  {
   "cell_type": "markdown",
   "id": "75993914-296c-42eb-af8b-ee77c0263309",
   "metadata": {},
   "source": [
    "1. **Initialize the Program**:\n",
    "\n",
    "    * Create an empty dictionary to store tasks.\n",
    "    * Create a task ID counter."
   ]
  },
  {
   "cell_type": "code",
   "execution_count": 3,
   "id": "ff70c0f6-f5e7-4275-9a21-f164ff11d479",
   "metadata": {},
   "outputs": [],
   "source": [
    "tasks = {}\n",
    "task_id_counter = 1"
   ]
  },
  {
   "cell_type": "markdown",
   "id": "7d82dc96-f3c6-4a40-9bf5-53638787b859",
   "metadata": {},
   "source": [
    "2. **Display the Menu**:\n",
    "\n",
    "    * Create a function to display a menu with the following options: Add a Task, View Tasks, Mark a Task as Completed, Delete a Task, Quit."
   ]
  },
  {
   "cell_type": "code",
   "execution_count": 4,
   "id": "c2d48fbc-b966-4aa4-a595-0f526adbacb8",
   "metadata": {},
   "outputs": [],
   "source": [
    "def display_menu():\n",
    "    print(\"\\nMenu:\")\n",
    "    print(\"1. Add a Task\")\n",
    "    print(\"2. View Tasks\")\n",
    "    print(\"3. Mark a Task as Completed\")\n",
    "    print(\"4. Delete a Task\")\n",
    "    print(\"5. Quit\\n\")"
   ]
  },
  {
   "cell_type": "markdown",
   "id": "c25f00ac-9310-49a1-83bf-ef29e279652f",
   "metadata": {},
   "source": [
    "3. **Add a Task**:\n",
    "\n",
    "    * Create a function to add a task.\n",
    "    * Ask the user for a task description and a priority level.\n",
    "    * Store the task in the dictionary with a unique ID."
   ]
  },
  {
   "cell_type": "code",
   "execution_count": 5,
   "id": "c63b105c-280b-40e3-9232-99af778e44e7",
   "metadata": {},
   "outputs": [],
   "source": [
    "def add_task(tasks, task_id_counter):\n",
    "    description = input(\"Enter the task description: \")\n",
    "    priority = input(\"Enter the task priority (low, medium, high): \").lower()\n",
    "    tasks[task_id_counter] = {\"description\": description, \"priority\": priority, \"completed\": False}\n",
    "    print(f\"Task {task_id_counter} added.\")\n",
    "    return task_id_counter + 1"
   ]
  },
  {
   "cell_type": "markdown",
   "id": "516cf987-7b7b-4c7d-99f5-5f4346f41fc2",
   "metadata": {},
   "source": [
    "4. **View Tasks**:\n",
    "\n",
    "    * Create a function to display all tasks.\n",
    "    * Loop through the dictionary and display the details of each task."
   ]
  },
  {
   "cell_type": "code",
   "execution_count": 6,
   "id": "a16d55d2-7688-4fb9-ad97-d4510d44f51a",
   "metadata": {},
   "outputs": [],
   "source": [
    "def view_tasks(tasks):\n",
    "    if not tasks:\n",
    "        print(\"No tasks available.\")\n",
    "    else:\n",
    "        for task_id, task in tasks.items():\n",
    "            status = \"Completed\" if task[\"completed\"] else \"Not Completed\"\n",
    "            print(f\"ID: {task_id}, Description: {task['description']}, Priority: {task['priority']}, Status: {status}\")"
   ]
  },
  {
   "cell_type": "markdown",
   "id": "997b15a5-7c2f-4cc8-8790-13f0c5cf8c84",
   "metadata": {},
   "source": [
    "5. **Mark a Task as Completed**:\n",
    "\n",
    "    * Create a function to mark a task as completed.\n",
    "    * Ask the user for the task ID.\n",
    "    * Update the task’s completion status in the dictionary."
   ]
  },
  {
   "cell_type": "code",
   "execution_count": 7,
   "id": "4f1d2e6f-e484-42f1-91ad-062a94d80ac3",
   "metadata": {},
   "outputs": [],
   "source": [
    "\n",
    "def mark_task_completed(tasks):\n",
    "    task_id = int(input(\"Enter the task ID to mark as completed: \"))\n",
    "    if task_id in tasks:\n",
    "        tasks[task_id][\"completed\"] = True\n",
    "        print(f\"Task {task_id} marked as completed.\")\n",
    "    else:\n",
    "        print(\"Task ID not found.\")"
   ]
  },
  {
   "cell_type": "markdown",
   "id": "dc86c311-aaa8-4bd5-b370-385a889dbb5e",
   "metadata": {},
   "source": [
    "6. **Delete a Task**:\n",
    "\n",
    "    * Create a function to delete a task.\n",
    "    * Ask the user for the task ID.\n",
    "    * Remove the task from the dictionary."
   ]
  },
  {
   "cell_type": "code",
   "execution_count": 8,
   "id": "cecc90f7-37f2-4e98-874e-ef06941752da",
   "metadata": {},
   "outputs": [],
   "source": [
    "def delete_task(tasks):\n",
    "    task_id = int(input(\"Enter the task ID to delete: \"))\n",
    "    if task_id in tasks:\n",
    "        del tasks[task_id]\n",
    "        print(f\"Task {task_id} deleted.\")\n",
    "    else:\n",
    "        print(\"Task ID not found.\")"
   ]
  },
  {
   "cell_type": "markdown",
   "id": "03a946f8-553a-4f92-aa74-66c54d3afe38",
   "metadata": {},
   "source": [
    "7. **Main Program Loop**:\n",
    "\n",
    "    * Create a loop that keeps the program running until the user chooses to quit.\n",
    "    * Call the appropriate functions based on the user’s input."
   ]
  },
  {
   "cell_type": "code",
   "execution_count": 9,
   "id": "58ba9c5b-11a0-42f1-b25a-52550a52d58d",
   "metadata": {},
   "outputs": [
    {
     "name": "stdout",
     "output_type": "stream",
     "text": [
      "\n",
      "Menu:\n",
      "1. Add a Task\n",
      "2. View Tasks\n",
      "3. Mark a Task as Completed\n",
      "4. Delete a Task\n",
      "5. Quit\n",
      "\n"
     ]
    },
    {
     "name": "stdin",
     "output_type": "stream",
     "text": [
      "Enter your choice:  1\n",
      "Enter the task description:  hamza\n",
      "Enter the task priority (low, medium, high):  low\n"
     ]
    },
    {
     "name": "stdout",
     "output_type": "stream",
     "text": [
      "Task 1 added.\n",
      "\n",
      "Menu:\n",
      "1. Add a Task\n",
      "2. View Tasks\n",
      "3. Mark a Task as Completed\n",
      "4. Delete a Task\n",
      "5. Quit\n",
      "\n"
     ]
    },
    {
     "name": "stdin",
     "output_type": "stream",
     "text": [
      "Enter your choice:  2\n"
     ]
    },
    {
     "name": "stdout",
     "output_type": "stream",
     "text": [
      "ID: 1, Description: hamza, Priority: low, Status: Not Completed\n",
      "\n",
      "Menu:\n",
      "1. Add a Task\n",
      "2. View Tasks\n",
      "3. Mark a Task as Completed\n",
      "4. Delete a Task\n",
      "5. Quit\n",
      "\n"
     ]
    },
    {
     "name": "stdin",
     "output_type": "stream",
     "text": [
      "Enter your choice:  m\n"
     ]
    },
    {
     "name": "stdout",
     "output_type": "stream",
     "text": [
      "Invalid choice. Please try again.\n",
      "\n",
      "Menu:\n",
      "1. Add a Task\n",
      "2. View Tasks\n",
      "3. Mark a Task as Completed\n",
      "4. Delete a Task\n",
      "5. Quit\n",
      "\n"
     ]
    },
    {
     "name": "stdin",
     "output_type": "stream",
     "text": [
      "Enter your choice:  0\n"
     ]
    },
    {
     "name": "stdout",
     "output_type": "stream",
     "text": [
      "Invalid choice. Please try again.\n",
      "\n",
      "Menu:\n",
      "1. Add a Task\n",
      "2. View Tasks\n",
      "3. Mark a Task as Completed\n",
      "4. Delete a Task\n",
      "5. Quit\n",
      "\n"
     ]
    },
    {
     "name": "stdin",
     "output_type": "stream",
     "text": [
      "Enter your choice:  3\n",
      "Enter the task ID to mark as completed:  1\n"
     ]
    },
    {
     "name": "stdout",
     "output_type": "stream",
     "text": [
      "Task 1 marked as completed.\n",
      "\n",
      "Menu:\n",
      "1. Add a Task\n",
      "2. View Tasks\n",
      "3. Mark a Task as Completed\n",
      "4. Delete a Task\n",
      "5. Quit\n",
      "\n"
     ]
    },
    {
     "name": "stdin",
     "output_type": "stream",
     "text": [
      "Enter your choice:  4\n",
      "Enter the task ID to delete:  1\n"
     ]
    },
    {
     "name": "stdout",
     "output_type": "stream",
     "text": [
      "Task 1 deleted.\n",
      "\n",
      "Menu:\n",
      "1. Add a Task\n",
      "2. View Tasks\n",
      "3. Mark a Task as Completed\n",
      "4. Delete a Task\n",
      "5. Quit\n",
      "\n"
     ]
    },
    {
     "name": "stdin",
     "output_type": "stream",
     "text": [
      "Enter your choice:  5\n"
     ]
    },
    {
     "name": "stdout",
     "output_type": "stream",
     "text": [
      "Exiting the program.\n"
     ]
    }
   ],
   "source": [
    "def main():\n",
    "    tasks = {}\n",
    "    task_id_counter = 1\n",
    "    while True:\n",
    "        display_menu()\n",
    "        choice = input(\"Enter your choice: \")\n",
    "        if choice == '1':\n",
    "            task_id_counter = add_task(tasks, task_id_counter)\n",
    "        elif choice == '2':\n",
    "            view_tasks(tasks)\n",
    "        elif choice == '3':\n",
    "            mark_task_completed(tasks)\n",
    "        elif choice == '4':\n",
    "            delete_task(tasks)\n",
    "        elif choice == '5':\n",
    "            print(\"Exiting the program.\")\n",
    "            break\n",
    "        else:\n",
    "            print(\"Invalid choice. Please try again.\")\n",
    "\n",
    "if __name__ == \"__main__\":\n",
    "    main()"
   ]
  },
  {
   "cell_type": "code",
   "execution_count": null,
   "id": "67823bca-eda2-4bd5-a59a-29bec0c875ff",
   "metadata": {},
   "outputs": [],
   "source": []
  },
  {
   "cell_type": "code",
   "execution_count": null,
   "id": "e6d2722a-21b0-432f-bd0a-ecfbc20b9de5",
   "metadata": {},
   "outputs": [],
   "source": []
  },
  {
   "cell_type": "code",
   "execution_count": null,
   "id": "0de86848-4b60-43bc-a8fa-dfc45a42d759",
   "metadata": {},
   "outputs": [],
   "source": []
  },
  {
   "cell_type": "code",
   "execution_count": 12,
   "id": "998fe14b-ea40-4a7e-94b7-c53e1cefb6df",
   "metadata": {},
   "outputs": [
    {
     "name": "stdout",
     "output_type": "stream",
     "text": [
      "1 hamza\n",
      "2 zi\n",
      "3 dane\n"
     ]
    }
   ],
   "source": [
    "x = lambda a: a+10\n",
    "d =  {\"1\": \"hamza\", \"2\":\"zi\", \"3\": \"dane\" }\n",
    "for key in d:\n",
    "    print(key, d[key])"
   ]
  },
  {
   "cell_type": "code",
   "execution_count": null,
   "id": "497b23f0-c84b-43a3-b6cf-f11c529be31f",
   "metadata": {},
   "outputs": [],
   "source": []
  }
 ],
 "metadata": {
  "kernelspec": {
   "display_name": "Python 3 (ipykernel)",
   "language": "python",
   "name": "python3"
  },
  "language_info": {
   "codemirror_mode": {
    "name": "ipython",
    "version": 3
   },
   "file_extension": ".py",
   "mimetype": "text/x-python",
   "name": "python",
   "nbconvert_exporter": "python",
   "pygments_lexer": "ipython3",
   "version": "3.11.2"
  }
 },
 "nbformat": 4,
 "nbformat_minor": 5
}
