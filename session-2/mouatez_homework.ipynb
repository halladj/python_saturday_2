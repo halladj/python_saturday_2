{
 "cells": [
  {
   "cell_type": "markdown",
   "id": "f36b719a-c495-46d7-ab04-5ac51e5952e0",
   "metadata": {
    "id": "f36b719a-c495-46d7-ab04-5ac51e5952e0"
   },
   "source": [
    "# Exercice-1:\n",
    "### **Fix the Syntaxtic Errors in the following declarations**:"
   ]
  },
  {
   "cell_type": "markdown",
   "id": "a38e3a93-86ee-40b0-a841-8393d91be116",
   "metadata": {
    "id": "a38e3a93-86ee-40b0-a841-8393d91be116"
   },
   "source": [
    "**1.** avoid spaces"
   ]
  },
  {
   "cell_type": "code",
   "execution_count": 1,
   "id": "4e4668b7-10e3-4300-a0eb-534ec30d8a58",
   "metadata": {
    "id": "4e4668b7-10e3-4300-a0eb-534ec30d8a58"
   },
   "outputs": [],
   "source": [
    "new_variable = 10"
   ]
  },
  {
   "cell_type": "markdown",
   "id": "f3e18973-31b9-4d2d-bc16-7d18babfc92d",
   "metadata": {
    "id": "f3e18973-31b9-4d2d-bc16-7d18babfc92d"
   },
   "source": [
    "**2.** can't start with number"
   ]
  },
  {
   "cell_type": "code",
   "execution_count": 2,
   "id": "ea8524d6-4b7c-4c4a-a959-42cda1ae554e",
   "metadata": {
    "id": "ea8524d6-4b7c-4c4a-a959-42cda1ae554e"
   },
   "outputs": [],
   "source": [
    "__10number = 2030"
   ]
  },
  {
   "cell_type": "markdown",
   "id": "fddacc56-2619-48de-8270-4e5fd95caf26",
   "metadata": {
    "id": "fddacc56-2619-48de-8270-4e5fd95caf26"
   },
   "source": [
    "**3.** syntax error because of capital letters"
   ]
  },
  {
   "cell_type": "code",
   "execution_count": 3,
   "id": "6980c606-e15c-4f86-8006-5b791fcdcd5d",
   "metadata": {
    "colab": {
     "base_uri": "https://localhost:8080/"
    },
    "id": "6980c606-e15c-4f86-8006-5b791fcdcd5d",
    "outputId": "300384b4-5132-438c-cab3-514001feb195"
   },
   "outputs": [
    {
     "name": "stdout",
     "output_type": "stream",
     "text": [
      "2323\n"
     ]
    }
   ],
   "source": [
    "random = 2323\n",
    "print(random)"
   ]
  },
  {
   "cell_type": "markdown",
   "id": "49a3f441-30dd-494b-a1e5-291c63a49c37",
   "metadata": {
    "id": "49a3f441-30dd-494b-a1e5-291c63a49c37"
   },
   "source": [
    "**4.** can't redefine a reserved codes"
   ]
  },
  {
   "cell_type": "code",
   "execution_count": 4,
   "id": "ed615d71-8a28-4816-b36e-da7e3caa4399",
   "metadata": {
    "id": "ed615d71-8a28-4816-b36e-da7e3caa4399"
   },
   "outputs": [],
   "source": [
    "px = 1059"
   ]
  },
  {
   "cell_type": "markdown",
   "id": "62a4d437-5f19-4625-9065-da169b95554d",
   "metadata": {
    "id": "62a4d437-5f19-4625-9065-da169b95554d"
   },
   "source": [
    "# Exercice-2:\n",
    "### Write a program that takes two numbers from the user and prints their:\n",
    "1. **sum**,\n",
    "2. **difference**,\n",
    "3. **product**,\n",
    "4. and **quotient**:"
   ]
  },
  {
   "cell_type": "code",
   "execution_count": 5,
   "id": "19fba9c2-c640-42dc-a42a-5139811d3b83",
   "metadata": {
    "colab": {
     "base_uri": "https://localhost:8080/"
    },
    "id": "19fba9c2-c640-42dc-a42a-5139811d3b83",
    "outputId": "b47d9876-da8e-4a9c-de27-630cb5326d09"
   },
   "outputs": [
    {
     "name": "stdout",
     "output_type": "stream",
     "text": [
      "enter the first number: \n"
     ]
    }
   ],
   "source": [
    "print(\"enter the first number: \")"
   ]
  },
  {
   "cell_type": "code",
   "execution_count": 6,
   "id": "8c6950ed-7959-46a7-8a62-18059bfa74bc",
   "metadata": {
    "colab": {
     "base_uri": "https://localhost:8080/"
    },
    "id": "8c6950ed-7959-46a7-8a62-18059bfa74bc",
    "outputId": "f4ba17bd-f2ff-4be8-89d8-4f5b4b9fdadd"
   },
   "outputs": [
    {
     "name": "stdin",
     "output_type": "stream",
     "text": [
      "  10\n"
     ]
    }
   ],
   "source": [
    "n1 = input(\" \")"
   ]
  },
  {
   "cell_type": "code",
   "execution_count": 7,
   "id": "5aea20f1-1246-4402-8b48-980f10cc8f85",
   "metadata": {
    "id": "5aea20f1-1246-4402-8b48-980f10cc8f85"
   },
   "outputs": [],
   "source": [
    "n1 = int(n1)"
   ]
  },
  {
   "cell_type": "code",
   "execution_count": 8,
   "id": "81ec3be2-ce42-4e0c-bea8-0cb54b268a69",
   "metadata": {
    "colab": {
     "base_uri": "https://localhost:8080/"
    },
    "id": "81ec3be2-ce42-4e0c-bea8-0cb54b268a69",
    "outputId": "f6c5592c-4e68-4da4-a026-6d856dee1951"
   },
   "outputs": [
    {
     "name": "stdout",
     "output_type": "stream",
     "text": [
      "enter the second number: \n"
     ]
    }
   ],
   "source": [
    "print(\"enter the second number: \")"
   ]
  },
  {
   "cell_type": "code",
   "execution_count": 9,
   "id": "7463b388-5725-40f4-98e4-4f83db1fd0cb",
   "metadata": {
    "colab": {
     "base_uri": "https://localhost:8080/"
    },
    "id": "7463b388-5725-40f4-98e4-4f83db1fd0cb",
    "outputId": "69d8b9f4-170f-45a3-9621-2c5b30db5912"
   },
   "outputs": [
    {
     "name": "stdin",
     "output_type": "stream",
     "text": [
      "  10\n"
     ]
    }
   ],
   "source": [
    "n2 = input(\" \")"
   ]
  },
  {
   "cell_type": "code",
   "execution_count": 10,
   "id": "51bbd029-f763-4968-a619-c0cdf059c373",
   "metadata": {
    "id": "51bbd029-f763-4968-a619-c0cdf059c373"
   },
   "outputs": [],
   "source": [
    "n2 = int(n2)"
   ]
  },
  {
   "cell_type": "code",
   "execution_count": 11,
   "id": "00448f13-1556-45b8-bb70-b81d0b0373d7",
   "metadata": {
    "colab": {
     "base_uri": "https://localhost:8080/"
    },
    "id": "00448f13-1556-45b8-bb70-b81d0b0373d7",
    "outputId": "1bd9a410-4e93-423d-de7f-4205009257b5"
   },
   "outputs": [
    {
     "name": "stdout",
     "output_type": "stream",
     "text": [
      "enter the operation you want ( +,-,*,/) : \n"
     ]
    }
   ],
   "source": [
    "print(\"enter the operation you want ( +,-,*,/) : \")"
   ]
  },
  {
   "cell_type": "code",
   "execution_count": 12,
   "id": "788e0b84-3472-4f50-8a50-24dcb13d2885",
   "metadata": {
    "colab": {
     "base_uri": "https://localhost:8080/"
    },
    "id": "788e0b84-3472-4f50-8a50-24dcb13d2885",
    "outputId": "efd7e18d-7558-44a6-f859-ca08f9af0437"
   },
   "outputs": [
    {
     "name": "stdin",
     "output_type": "stream",
     "text": [
      " *\n"
     ]
    }
   ],
   "source": [
    "op = input (\"\")"
   ]
  },
  {
   "cell_type": "code",
   "execution_count": 13,
   "id": "nev6CG7uqjoh",
   "metadata": {
    "id": "nev6CG7uqjoh"
   },
   "outputs": [
    {
     "name": "stdout",
     "output_type": "stream",
     "text": [
      "100\n"
     ]
    }
   ],
   "source": [
    "if op == \"+\" :\n",
    "  print(n1 + n2)\n",
    "elif op == \"-\" :\n",
    "  print(n1 - n2)\n",
    "elif op == \"*\" :\n",
    "  print(n1 * n2)\n",
    "elif op == \"/\" :\n",
    "  print(n1 / n2)\n",
    "else:\n",
    "  print(\"invalid operation\")"
   ]
  },
  {
   "cell_type": "markdown",
   "id": "fa5cbf7a-055d-4598-a8ad-0e8e3d9d2bc4",
   "metadata": {
    "id": "fa5cbf7a-055d-4598-a8ad-0e8e3d9d2bc4"
   },
   "source": [
    "# Exercice-3:\n",
    "###  Ask the user for two numbers and display the result of the first number raised to the power of the second:"
   ]
  },
  {
   "cell_type": "code",
   "execution_count": null,
   "id": "e43dfa2d-8d92-48ab-965b-05312e7cbbcc",
   "metadata": {
    "colab": {
     "base_uri": "https://localhost:8080/"
    },
    "id": "e43dfa2d-8d92-48ab-965b-05312e7cbbcc",
    "outputId": "79849048-42fa-46f4-a928-bdfe39a199bc"
   },
   "outputs": [],
   "source": [
    "num1 = int(input(\"enter the first number : \"))\n",
    "num2 = int(input(\"enter the second number : \"))\n",
    "result = num1 ** num2\n",
    "print(f\"{num1}  power to {num2} is {result}\")"
   ]
  },
  {
   "cell_type": "markdown",
   "id": "904f0e3f-e4ca-4ccf-a9a9-4d40cb58e134",
   "metadata": {
    "id": "904f0e3f-e4ca-4ccf-a9a9-4d40cb58e134"
   },
   "source": [
    "# Exercice-4:\n",
    "###   Write a program that asks the user for a number and determines if it’s even or odd:"
   ]
  },
  {
   "cell_type": "code",
   "execution_count": null,
   "id": "0c8b5561-da4e-45af-b336-74d18f10fb54",
   "metadata": {
    "colab": {
     "base_uri": "https://localhost:8080/"
    },
    "id": "0c8b5561-da4e-45af-b336-74d18f10fb54",
    "outputId": "fea05044-a14d-4608-cf82-8280aedd3bf6"
   },
   "outputs": [],
   "source": [
    "number = input(\"Please enter a number: \")\n",
    "number = int(number)\n",
    "if number %2 == 0:\n",
    "  print(\"the number is even\")\n",
    "else:\n",
    "  print(\"the number is odd\")"
   ]
  },
  {
   "cell_type": "markdown",
   "id": "7d7437fa-248c-4460-b91b-d3e6aaacb762",
   "metadata": {
    "id": "7d7437fa-248c-4460-b91b-d3e6aaacb762"
   },
   "source": [
    "# Exercice-5:\n",
    "###  Write a program to convert a temperature from Celsius to Fahrenheit using the formula: $$ F = C \\times \\frac{9}{5} + 32 $$"
   ]
  },
  {
   "cell_type": "code",
   "execution_count": null,
   "id": "lB1iC8ODtkkC",
   "metadata": {
    "colab": {
     "base_uri": "https://localhost:8080/"
    },
    "id": "lB1iC8ODtkkC",
    "outputId": "6daa02f9-d6ac-49f3-c409-033d5c0637f0"
   },
   "outputs": [],
   "source": [
    "celsius = int(input(\"enter temperature in celsius: \"))\n",
    "fahrenheit = (celsius * 9/5) + 32\n",
    "print(f\"{celsius} degrees Celsius is equal to {fahrenheit} degrees Fahrenheit\")"
   ]
  },
  {
   "cell_type": "markdown",
   "id": "236a2454-face-407e-a5e2-af20fd90048d",
   "metadata": {
    "id": "236a2454-face-407e-a5e2-af20fd90048d"
   },
   "source": [
    "# Exercice-5:\n",
    "###  Write a program that takes the user's age in years and calculates their age in months:\n"
   ]
  },
  {
   "cell_type": "code",
   "execution_count": null,
   "id": "94e0e314-5de9-4b60-8474-daed3be462ec",
   "metadata": {
    "colab": {
     "base_uri": "https://localhost:8080/"
    },
    "id": "94e0e314-5de9-4b60-8474-daed3be462ec",
    "outputId": "e01ba540-5a5a-494a-e692-191168f4ddbc"
   },
   "outputs": [],
   "source": [
    "age = int(input(\"enter ur age : \"))"
   ]
  },
  {
   "cell_type": "code",
   "execution_count": null,
   "id": "0d194a37-23bb-47fd-86ba-9fa369a36090",
   "metadata": {
    "id": "0d194a37-23bb-47fd-86ba-9fa369a36090"
   },
   "outputs": [],
   "source": [
    "months = age * 12"
   ]
  },
  {
   "cell_type": "code",
   "execution_count": null,
   "id": "c6bdfdf0-2981-4570-a209-14814f11835f",
   "metadata": {
    "colab": {
     "base_uri": "https://localhost:8080/"
    },
    "id": "c6bdfdf0-2981-4570-a209-14814f11835f",
    "outputId": "128f91ac-702e-417f-ad6a-855bb5a662e9"
   },
   "outputs": [],
   "source": [
    "print(f\"you are {months} months old\")"
   ]
  }
 ],
 "metadata": {
  "colab": {
   "provenance": []
  },
  "kernelspec": {
   "display_name": "Python 3 (ipykernel)",
   "language": "python",
   "name": "python3"
  },
  "language_info": {
   "codemirror_mode": {
    "name": "ipython",
    "version": 3
   },
   "file_extension": ".py",
   "mimetype": "text/x-python",
   "name": "python",
   "nbconvert_exporter": "python",
   "pygments_lexer": "ipython3",
   "version": "3.11.2"
  }
 },
 "nbformat": 4,
 "nbformat_minor": 5
}
